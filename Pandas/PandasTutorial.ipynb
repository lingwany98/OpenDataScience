{
 "cells": [
  {
   "cell_type": "markdown",
   "metadata": {
    "collapsed": true,
    "pycharm": {
     "name": "#%% md\n"
    }
   },
   "source": [
    "# Pandas入门教程\n",
    "## 1 数据框的生成与特性\n",
    "### 1.1 数据框的生成\n",
    "`pandas`以类似字典的方式来生成数据集。"
   ]
  },
  {
   "cell_type": "code",
   "execution_count": 20,
   "outputs": [
    {
     "data": {
      "text/plain": "3"
     },
     "execution_count": 20,
     "metadata": {},
     "output_type": "execute_result"
    }
   ],
   "source": [
    "import numpy as np\n",
    "import pandas as pd\n",
    "\n",
    "d0 = {'x1':5,'x2':989}\n",
    "d1 = {'x2':np.arange(3),'x1':([4.5,9],8),'x3':(1,2,5.7)}\n",
    "d2 = {'x3':{'m':3,'n':5},'x2':([4.3],[9.0])}\n",
    "df = pd.DataFrame([d0,d1,d2])\n",
    "r2 = df.loc[2,'x3']['m']\n",
    "r2"
   ],
   "metadata": {
    "collapsed": false,
    "pycharm": {
     "name": "#%%\n"
    }
   }
  },
  {
   "cell_type": "markdown",
   "source": [
    "引用数据框中的数据，使用`iloc`和`loc`命令。`loc`根据数据框的行名`index`来索引对应的行。`iloc`是根据行号来索引，行号从0开始，逐次加1。"
   ],
   "metadata": {
    "collapsed": false,
    "pycharm": {
     "name": "#%% md\n"
    }
   }
  },
  {
   "cell_type": "code",
   "execution_count": 21,
   "outputs": [
    {
     "data": {
      "text/plain": "([4.5, 9], 8)"
     },
     "execution_count": 21,
     "metadata": {},
     "output_type": "execute_result"
    }
   ],
   "source": [
    "r1 = df.iloc[1,0][0]\n",
    "r1"
   ],
   "metadata": {
    "collapsed": false,
    "pycharm": {
     "name": "#%%\n"
    }
   }
  },
  {
   "cell_type": "code",
   "execution_count": null,
   "outputs": [],
   "source": [
    "r2 = df.loc[2,'x3']['m']\n",
    "r2"
   ],
   "metadata": {
    "collapsed": false,
    "pycharm": {
     "name": "#%%\n"
    }
   }
  },
  {
   "cell_type": "code",
   "execution_count": null,
   "outputs": [],
   "source": [
    "r3 = df.x1[1]\n",
    "r3"
   ],
   "metadata": {
    "collapsed": false,
    "pycharm": {
     "name": "#%%\n"
    }
   }
  },
  {
   "cell_type": "markdown",
   "source": [
    "数据框生成的两种写法：一种是使用字典的方式，另一种使用`numpy`包，生成向量后，再生成数据集。"
   ],
   "metadata": {
    "collapsed": false,
    "pycharm": {
     "name": "#%% md\n"
    }
   }
  },
  {
   "cell_type": "code",
   "execution_count": 23,
   "outputs": [
    {
     "data": {
      "text/plain": "   x1  y1\n0   1  23\n1   2   4\n2   3   5\n3   4   6",
      "text/html": "<div>\n<style scoped>\n    .dataframe tbody tr th:only-of-type {\n        vertical-align: middle;\n    }\n\n    .dataframe tbody tr th {\n        vertical-align: top;\n    }\n\n    .dataframe thead th {\n        text-align: right;\n    }\n</style>\n<table border=\"1\" class=\"dataframe\">\n  <thead>\n    <tr style=\"text-align: right;\">\n      <th></th>\n      <th>x1</th>\n      <th>y1</th>\n    </tr>\n  </thead>\n  <tbody>\n    <tr>\n      <th>0</th>\n      <td>1</td>\n      <td>23</td>\n    </tr>\n    <tr>\n      <th>1</th>\n      <td>2</td>\n      <td>4</td>\n    </tr>\n    <tr>\n      <th>2</th>\n      <td>3</td>\n      <td>5</td>\n    </tr>\n    <tr>\n      <th>3</th>\n      <td>4</td>\n      <td>6</td>\n    </tr>\n  </tbody>\n</table>\n</div>"
     },
     "execution_count": 23,
     "metadata": {},
     "output_type": "execute_result"
    }
   ],
   "source": [
    "d1 = {'x1':[1,2,3,4],'y1':[23,4,5,6]}\n",
    "df1 = pd.DataFrame(d1)\n",
    "df1"
   ],
   "metadata": {
    "collapsed": false,
    "pycharm": {
     "name": "#%%\n"
    }
   }
  },
  {
   "cell_type": "code",
   "execution_count": 28,
   "outputs": [
    {
     "data": {
      "text/plain": "   x1  y1\n0   1  23\n1   2   4\n2   3   5\n3   4   6",
      "text/html": "<div>\n<style scoped>\n    .dataframe tbody tr th:only-of-type {\n        vertical-align: middle;\n    }\n\n    .dataframe tbody tr th {\n        vertical-align: top;\n    }\n\n    .dataframe thead th {\n        text-align: right;\n    }\n</style>\n<table border=\"1\" class=\"dataframe\">\n  <thead>\n    <tr style=\"text-align: right;\">\n      <th></th>\n      <th>x1</th>\n      <th>y1</th>\n    </tr>\n  </thead>\n  <tbody>\n    <tr>\n      <th>0</th>\n      <td>1</td>\n      <td>23</td>\n    </tr>\n    <tr>\n      <th>1</th>\n      <td>2</td>\n      <td>4</td>\n    </tr>\n    <tr>\n      <th>2</th>\n      <td>3</td>\n      <td>5</td>\n    </tr>\n    <tr>\n      <th>3</th>\n      <td>4</td>\n      <td>6</td>\n    </tr>\n  </tbody>\n</table>\n</div>"
     },
     "execution_count": 28,
     "metadata": {},
     "output_type": "execute_result"
    }
   ],
   "source": [
    "import numpy as np\n",
    "d1 =np.array([[1,2,3,4],[23,4,5,6]]).T\n",
    "df1 = pd.DataFrame(d1,columns=['x1','y1'])\n",
    "df1"
   ],
   "metadata": {
    "collapsed": false,
    "pycharm": {
     "name": "#%%\n"
    }
   }
  },
  {
   "cell_type": "markdown",
   "source": [
    "### 1.2 数据框的描述性统计\n",
    "首先产生一个数据框。"
   ],
   "metadata": {
    "collapsed": false,
    "pycharm": {
     "name": "#%% md\n"
    }
   }
  },
  {
   "cell_type": "code",
   "execution_count": 32,
   "outputs": [
    {
     "data": {
      "text/plain": "         x1        x2        x3         y sex\n0  0.904925 -0.224031  0.595433  0.013984   F\n1 -0.553977 -0.578244  0.204304 -1.992026   F\n2  1.607503  1.855087  0.857693 -0.815639   F\n3 -0.898555  0.422171  0.138604 -0.225942   M\n4  3.383840  0.656177 -1.877143 -0.334412   M\n5  1.077794  0.444402  2.587604 -0.390135   M\n6  2.230877 -0.012570 -2.140316  0.366736   M",
      "text/html": "<div>\n<style scoped>\n    .dataframe tbody tr th:only-of-type {\n        vertical-align: middle;\n    }\n\n    .dataframe tbody tr th {\n        vertical-align: top;\n    }\n\n    .dataframe thead th {\n        text-align: right;\n    }\n</style>\n<table border=\"1\" class=\"dataframe\">\n  <thead>\n    <tr style=\"text-align: right;\">\n      <th></th>\n      <th>x1</th>\n      <th>x2</th>\n      <th>x3</th>\n      <th>y</th>\n      <th>sex</th>\n    </tr>\n  </thead>\n  <tbody>\n    <tr>\n      <th>0</th>\n      <td>0.904925</td>\n      <td>-0.224031</td>\n      <td>0.595433</td>\n      <td>0.013984</td>\n      <td>F</td>\n    </tr>\n    <tr>\n      <th>1</th>\n      <td>-0.553977</td>\n      <td>-0.578244</td>\n      <td>0.204304</td>\n      <td>-1.992026</td>\n      <td>F</td>\n    </tr>\n    <tr>\n      <th>2</th>\n      <td>1.607503</td>\n      <td>1.855087</td>\n      <td>0.857693</td>\n      <td>-0.815639</td>\n      <td>F</td>\n    </tr>\n    <tr>\n      <th>3</th>\n      <td>-0.898555</td>\n      <td>0.422171</td>\n      <td>0.138604</td>\n      <td>-0.225942</td>\n      <td>M</td>\n    </tr>\n    <tr>\n      <th>4</th>\n      <td>3.383840</td>\n      <td>0.656177</td>\n      <td>-1.877143</td>\n      <td>-0.334412</td>\n      <td>M</td>\n    </tr>\n    <tr>\n      <th>5</th>\n      <td>1.077794</td>\n      <td>0.444402</td>\n      <td>2.587604</td>\n      <td>-0.390135</td>\n      <td>M</td>\n    </tr>\n    <tr>\n      <th>6</th>\n      <td>2.230877</td>\n      <td>-0.012570</td>\n      <td>-2.140316</td>\n      <td>0.366736</td>\n      <td>M</td>\n    </tr>\n  </tbody>\n</table>\n</div>"
     },
     "execution_count": 32,
     "metadata": {},
     "output_type": "execute_result"
    }
   ],
   "source": [
    "import numpy as np\n",
    "np.random.seed(523)\n",
    "name = ['x1','x2','x3','y']\n",
    "df = pd.DataFrame(np.random.randn(7,4),columns=name)\n",
    "df['sex'] = ['F']*3 + ['M'] * 4\n",
    "df"
   ],
   "metadata": {
    "collapsed": false,
    "pycharm": {
     "name": "#%%\n"
    }
   }
  },
  {
   "cell_type": "markdown",
   "source": [
    "查看前两行。"
   ],
   "metadata": {
    "collapsed": false,
    "pycharm": {
     "name": "#%% md\n"
    }
   }
  },
  {
   "cell_type": "code",
   "execution_count": 33,
   "outputs": [
    {
     "data": {
      "text/plain": "         x1        x2        x3         y sex\n4  3.383840  0.656177 -1.877143 -0.334412   M\n5  1.077794  0.444402  2.587604 -0.390135   M\n6  2.230877 -0.012570 -2.140316  0.366736   M",
      "text/html": "<div>\n<style scoped>\n    .dataframe tbody tr th:only-of-type {\n        vertical-align: middle;\n    }\n\n    .dataframe tbody tr th {\n        vertical-align: top;\n    }\n\n    .dataframe thead th {\n        text-align: right;\n    }\n</style>\n<table border=\"1\" class=\"dataframe\">\n  <thead>\n    <tr style=\"text-align: right;\">\n      <th></th>\n      <th>x1</th>\n      <th>x2</th>\n      <th>x3</th>\n      <th>y</th>\n      <th>sex</th>\n    </tr>\n  </thead>\n  <tbody>\n    <tr>\n      <th>4</th>\n      <td>3.383840</td>\n      <td>0.656177</td>\n      <td>-1.877143</td>\n      <td>-0.334412</td>\n      <td>M</td>\n    </tr>\n    <tr>\n      <th>5</th>\n      <td>1.077794</td>\n      <td>0.444402</td>\n      <td>2.587604</td>\n      <td>-0.390135</td>\n      <td>M</td>\n    </tr>\n    <tr>\n      <th>6</th>\n      <td>2.230877</td>\n      <td>-0.012570</td>\n      <td>-2.140316</td>\n      <td>0.366736</td>\n      <td>M</td>\n    </tr>\n  </tbody>\n</table>\n</div>"
     },
     "execution_count": 33,
     "metadata": {},
     "output_type": "execute_result"
    }
   ],
   "source": [
    "df.head(2)"
   ],
   "metadata": {
    "collapsed": false,
    "pycharm": {
     "name": "#%%\n"
    }
   }
  },
  {
   "cell_type": "markdown",
   "source": [
    "查看后三行。"
   ],
   "metadata": {
    "collapsed": false,
    "pycharm": {
     "name": "#%% md\n"
    }
   }
  },
  {
   "cell_type": "code",
   "execution_count": null,
   "outputs": [],
   "source": [
    "df.tail(3)"
   ],
   "metadata": {
    "collapsed": false,
    "pycharm": {
     "name": "#%%\n"
    }
   }
  },
  {
   "cell_type": "markdown",
   "source": [
    "输出一些描述性统计指标。"
   ],
   "metadata": {
    "collapsed": false,
    "pycharm": {
     "name": "#%% md\n"
    }
   }
  },
  {
   "cell_type": "code",
   "execution_count": null,
   "outputs": [],
   "source": [
    "df.describe()"
   ],
   "metadata": {
    "collapsed": false,
    "pycharm": {
     "name": "#%%\n"
    }
   }
  },
  {
   "cell_type": "markdown",
   "source": [
    "查看数据集的变量名称。"
   ],
   "metadata": {
    "collapsed": false
   }
  },
  {
   "cell_type": "code",
   "execution_count": null,
   "outputs": [],
   "source": [
    "df.columns"
   ],
   "metadata": {
    "collapsed": false,
    "pycharm": {
     "name": "#%%\n"
    }
   }
  },
  {
   "cell_type": "markdown",
   "source": [
    "查看数据的变量行名。"
   ],
   "metadata": {
    "collapsed": false
   }
  },
  {
   "cell_type": "code",
   "execution_count": 38,
   "outputs": [
    {
     "data": {
      "text/plain": "         x3         y sex\nA  0.595433  0.013984   F\nB  0.204304 -1.992026   F\nC  0.857693 -0.815639   F\nD  0.138604 -0.225942   M",
      "text/html": "<div>\n<style scoped>\n    .dataframe tbody tr th:only-of-type {\n        vertical-align: middle;\n    }\n\n    .dataframe tbody tr th {\n        vertical-align: top;\n    }\n\n    .dataframe thead th {\n        text-align: right;\n    }\n</style>\n<table border=\"1\" class=\"dataframe\">\n  <thead>\n    <tr style=\"text-align: right;\">\n      <th></th>\n      <th>x3</th>\n      <th>y</th>\n      <th>sex</th>\n    </tr>\n  </thead>\n  <tbody>\n    <tr>\n      <th>A</th>\n      <td>0.595433</td>\n      <td>0.013984</td>\n      <td>F</td>\n    </tr>\n    <tr>\n      <th>B</th>\n      <td>0.204304</td>\n      <td>-1.992026</td>\n      <td>F</td>\n    </tr>\n    <tr>\n      <th>C</th>\n      <td>0.857693</td>\n      <td>-0.815639</td>\n      <td>F</td>\n    </tr>\n    <tr>\n      <th>D</th>\n      <td>0.138604</td>\n      <td>-0.225942</td>\n      <td>M</td>\n    </tr>\n  </tbody>\n</table>\n</div>"
     },
     "execution_count": 38,
     "metadata": {},
     "output_type": "execute_result"
    }
   ],
   "source": [
    "df.index"
   ],
   "metadata": {
    "collapsed": false,
    "pycharm": {
     "name": "#%%\n"
    }
   }
  },
  {
   "cell_type": "markdown",
   "source": [
    "可以修改行名。"
   ],
   "metadata": {
    "collapsed": false
   }
  },
  {
   "cell_type": "code",
   "execution_count": null,
   "outputs": [],
   "source": [
    "df.index = ['A','B','C','D','E','F','G']"
   ],
   "metadata": {
    "collapsed": false,
    "pycharm": {
     "name": "#%%\n"
    }
   }
  },
  {
   "cell_type": "markdown",
   "source": [
    "输出最后3个变量的头4行。"
   ],
   "metadata": {
    "collapsed": false,
    "pycharm": {
     "name": "#%% md\n"
    }
   }
  },
  {
   "cell_type": "code",
   "execution_count": null,
   "outputs": [],
   "source": [
    "df[df.columns[2:]][:4]"
   ],
   "metadata": {
    "collapsed": false,
    "pycharm": {
     "name": "#%%\n"
    }
   }
  },
  {
   "cell_type": "markdown",
   "source": [
    "数据框的元素个数。"
   ],
   "metadata": {
    "collapsed": false
   }
  },
  {
   "cell_type": "code",
   "execution_count": null,
   "outputs": [],
   "source": [
    "df.size"
   ],
   "metadata": {
    "collapsed": false,
    "pycharm": {
     "name": "#%%\n"
    }
   }
  },
  {
   "cell_type": "markdown",
   "source": [
    "数据框的形状。"
   ],
   "metadata": {
    "collapsed": false
   }
  },
  {
   "cell_type": "code",
   "execution_count": 39,
   "outputs": [
    {
     "data": {
      "text/plain": "(7, 5)"
     },
     "execution_count": 39,
     "metadata": {},
     "output_type": "execute_result"
    }
   ],
   "source": [
    "df.shape"
   ],
   "metadata": {
    "collapsed": false,
    "pycharm": {
     "name": "#%%\n"
    }
   }
  },
  {
   "cell_type": "markdown",
   "source": [
    "## 1.3 数据框行列名修改"
   ],
   "metadata": {
    "collapsed": false,
    "pycharm": {
     "name": "#%% md\n"
    }
   }
  },
  {
   "cell_type": "code",
   "execution_count": 40,
   "outputs": [
    {
     "data": {
      "text/plain": "Index(['price', 'length', 'x3', 'y', 'sex'], dtype='object')"
     },
     "execution_count": 40,
     "metadata": {},
     "output_type": "execute_result"
    }
   ],
   "source": [
    "df.rename(columns={'x1':'price','x2':'length'},inplace=True)\n",
    "df.columns"
   ],
   "metadata": {
    "collapsed": false,
    "pycharm": {
     "name": "#%%\n"
    }
   }
  },
  {
   "cell_type": "code",
   "execution_count": 54,
   "outputs": [
    {
     "data": {
      "text/plain": "              price    length        x3         y sex\nprice2                                               \n 0.904925  0.904925 -0.224031  0.595433  0.013984   F\n-0.553977 -0.553977 -0.578244  0.204304 -1.992026   F\n 1.607503  1.607503  1.855087  0.857693 -0.815639   F\n-0.898555 -0.898555  0.422171  0.138604 -0.225942   M\n 3.383840  3.383840  0.656177 -1.877143 -0.334412   M\n 1.077794  1.077794  0.444402  2.587604 -0.390135   M\n 2.230877  2.230877 -0.012570 -2.140316  0.366736   M",
      "text/html": "<div>\n<style scoped>\n    .dataframe tbody tr th:only-of-type {\n        vertical-align: middle;\n    }\n\n    .dataframe tbody tr th {\n        vertical-align: top;\n    }\n\n    .dataframe thead th {\n        text-align: right;\n    }\n</style>\n<table border=\"1\" class=\"dataframe\">\n  <thead>\n    <tr style=\"text-align: right;\">\n      <th></th>\n      <th>price</th>\n      <th>length</th>\n      <th>x3</th>\n      <th>y</th>\n      <th>sex</th>\n    </tr>\n    <tr>\n      <th>price2</th>\n      <th></th>\n      <th></th>\n      <th></th>\n      <th></th>\n      <th></th>\n    </tr>\n  </thead>\n  <tbody>\n    <tr>\n      <th>0.904925</th>\n      <td>0.904925</td>\n      <td>-0.224031</td>\n      <td>0.595433</td>\n      <td>0.013984</td>\n      <td>F</td>\n    </tr>\n    <tr>\n      <th>-0.553977</th>\n      <td>-0.553977</td>\n      <td>-0.578244</td>\n      <td>0.204304</td>\n      <td>-1.992026</td>\n      <td>F</td>\n    </tr>\n    <tr>\n      <th>1.607503</th>\n      <td>1.607503</td>\n      <td>1.855087</td>\n      <td>0.857693</td>\n      <td>-0.815639</td>\n      <td>F</td>\n    </tr>\n    <tr>\n      <th>-0.898555</th>\n      <td>-0.898555</td>\n      <td>0.422171</td>\n      <td>0.138604</td>\n      <td>-0.225942</td>\n      <td>M</td>\n    </tr>\n    <tr>\n      <th>3.383840</th>\n      <td>3.383840</td>\n      <td>0.656177</td>\n      <td>-1.877143</td>\n      <td>-0.334412</td>\n      <td>M</td>\n    </tr>\n    <tr>\n      <th>1.077794</th>\n      <td>1.077794</td>\n      <td>0.444402</td>\n      <td>2.587604</td>\n      <td>-0.390135</td>\n      <td>M</td>\n    </tr>\n    <tr>\n      <th>2.230877</th>\n      <td>2.230877</td>\n      <td>-0.012570</td>\n      <td>-2.140316</td>\n      <td>0.366736</td>\n      <td>M</td>\n    </tr>\n  </tbody>\n</table>\n</div>"
     },
     "execution_count": 54,
     "metadata": {},
     "output_type": "execute_result"
    }
   ],
   "source": [
    "df.index = np.arange(2,9)\n",
    "df\n",
    "df['price2']=np.copy(df.price)\n",
    "df2 = df.set_index('price2')\n",
    "df2"
   ],
   "metadata": {
    "collapsed": false,
    "pycharm": {
     "name": "#%%\n"
    }
   }
  },
  {
   "cell_type": "markdown",
   "source": [
    "把现有`index`的反向作为新的`index`。"
   ],
   "metadata": {
    "collapsed": false,
    "pycharm": {
     "name": "#%% md\n"
    }
   }
  },
  {
   "cell_type": "code",
   "execution_count": null,
   "outputs": [],
   "source": [
    "new_index = df2.index[::-1]\n",
    "df2 = df2.reindex(new_index)\n",
    "df2"
   ],
   "metadata": {
    "collapsed": false,
    "pycharm": {
     "name": "#%%\n"
    }
   }
  },
  {
   "cell_type": "markdown",
   "source": [
    "把原来的`index`变为一个变量。"
   ],
   "metadata": {
    "collapsed": false
   }
  },
  {
   "cell_type": "code",
   "execution_count": 58,
   "outputs": [
    {
     "ename": "AttributeError",
     "evalue": "'DataFrame' object has no attribute 'reset_price'",
     "output_type": "error",
     "traceback": [
      "\u001B[1;31m---------------------------------------------------------------------------\u001B[0m",
      "\u001B[1;31mAttributeError\u001B[0m                            Traceback (most recent call last)",
      "\u001B[1;32m~\\AppData\\Local\\Temp\\ipykernel_76632\\1807472566.py\u001B[0m in \u001B[0;36m<module>\u001B[1;34m\u001B[0m\n\u001B[0;32m      2\u001B[0m \u001B[0mdf2\u001B[0m\u001B[1;33m.\u001B[0m\u001B[0mreset_index\u001B[0m\u001B[1;33m(\u001B[0m\u001B[1;33m)\u001B[0m\u001B[1;33m\u001B[0m\u001B[1;33m\u001B[0m\u001B[0m\n\u001B[0;32m      3\u001B[0m \u001B[1;31m## 把原来的index去掉\u001B[0m\u001B[1;33m\u001B[0m\u001B[1;33m\u001B[0m\u001B[1;33m\u001B[0m\u001B[0m\n\u001B[1;32m----> 4\u001B[1;33m \u001B[0mdf2\u001B[0m\u001B[1;33m.\u001B[0m\u001B[0mreset_price\u001B[0m\u001B[1;33m(\u001B[0m\u001B[0mdrop\u001B[0m\u001B[1;33m=\u001B[0m\u001B[1;32mTrue\u001B[0m\u001B[1;33m)\u001B[0m\u001B[1;33m\u001B[0m\u001B[1;33m\u001B[0m\u001B[0m\n\u001B[0m",
      "\u001B[1;32mc:\\users\\ling wanying\\appdata\\local\\programs\\python\\python37\\lib\\site-packages\\pandas\\core\\generic.py\u001B[0m in \u001B[0;36m__getattr__\u001B[1;34m(self, name)\u001B[0m\n\u001B[0;32m   5460\u001B[0m             \u001B[1;32mif\u001B[0m \u001B[0mself\u001B[0m\u001B[1;33m.\u001B[0m\u001B[0m_info_axis\u001B[0m\u001B[1;33m.\u001B[0m\u001B[0m_can_hold_identifiers_and_holds_name\u001B[0m\u001B[1;33m(\u001B[0m\u001B[0mname\u001B[0m\u001B[1;33m)\u001B[0m\u001B[1;33m:\u001B[0m\u001B[1;33m\u001B[0m\u001B[1;33m\u001B[0m\u001B[0m\n\u001B[0;32m   5461\u001B[0m                 \u001B[1;32mreturn\u001B[0m \u001B[0mself\u001B[0m\u001B[1;33m[\u001B[0m\u001B[0mname\u001B[0m\u001B[1;33m]\u001B[0m\u001B[1;33m\u001B[0m\u001B[1;33m\u001B[0m\u001B[0m\n\u001B[1;32m-> 5462\u001B[1;33m             \u001B[1;32mreturn\u001B[0m \u001B[0mobject\u001B[0m\u001B[1;33m.\u001B[0m\u001B[0m__getattribute__\u001B[0m\u001B[1;33m(\u001B[0m\u001B[0mself\u001B[0m\u001B[1;33m,\u001B[0m \u001B[0mname\u001B[0m\u001B[1;33m)\u001B[0m\u001B[1;33m\u001B[0m\u001B[1;33m\u001B[0m\u001B[0m\n\u001B[0m\u001B[0;32m   5463\u001B[0m \u001B[1;33m\u001B[0m\u001B[0m\n\u001B[0;32m   5464\u001B[0m     \u001B[1;32mdef\u001B[0m \u001B[0m__setattr__\u001B[0m\u001B[1;33m(\u001B[0m\u001B[0mself\u001B[0m\u001B[1;33m,\u001B[0m \u001B[0mname\u001B[0m\u001B[1;33m:\u001B[0m \u001B[0mstr\u001B[0m\u001B[1;33m,\u001B[0m \u001B[0mvalue\u001B[0m\u001B[1;33m)\u001B[0m \u001B[1;33m->\u001B[0m \u001B[1;32mNone\u001B[0m\u001B[1;33m:\u001B[0m\u001B[1;33m\u001B[0m\u001B[1;33m\u001B[0m\u001B[0m\n",
      "\u001B[1;31mAttributeError\u001B[0m: 'DataFrame' object has no attribute 'reset_price'"
     ]
    }
   ],
   "source": [
    "df2.reset_index()"
   ],
   "metadata": {
    "collapsed": false,
    "pycharm": {
     "name": "#%%\n"
    }
   }
  },
  {
   "cell_type": "markdown",
   "source": [
    "把原来的`index`去掉。"
   ],
   "metadata": {
    "collapsed": false
   }
  },
  {
   "cell_type": "code",
   "execution_count": null,
   "outputs": [],
   "source": [
    "df2.reset_index(drop=True)"
   ],
   "metadata": {
    "collapsed": false,
    "pycharm": {
     "name": "#%%\n"
    }
   }
  },
  {
   "cell_type": "markdown",
   "source": [
    "## 2 常见类型文件的存取"
   ],
   "metadata": {
    "collapsed": false,
    "pycharm": {
     "name": "#%% md\n"
    }
   }
  },
  {
   "cell_type": "markdown",
   "source": [
    "保存csv文件和xlsx文件。"
   ],
   "metadata": {
    "collapsed": false
   }
  },
  {
   "cell_type": "code",
   "execution_count": 82,
   "outputs": [],
   "source": [
    "import os\n",
    "import pandas as pd\n",
    "##当前文件所在位置\n",
    "os.getcwd()\n",
    "##创建文件夹Data\n",
    "os.makedirs('/Data', exist_ok=True)\n",
    "## 保存csv文件\n",
    "df.to_csv('Data/Df.csv',index=False) ##不加入行名\n",
    "df.to_csv('Data/Df2.csv',index=True) ##保存行名\n",
    "## 保存xlsx文件\n",
    "dfexcel = pd.ExcelWriter('Data/Df.xlsx')\n",
    "df.to_excel(dfexcel,'dfexcel',index=True)\n",
    "df.to_excel(dfexcel,'dfexcel2',startrow=2,startcol=3,index=True)\n",
    "dfexcel.save()"
   ],
   "metadata": {
    "collapsed": false,
    "pycharm": {
     "name": "#%%\n"
    }
   }
  },
  {
   "cell_type": "markdown",
   "source": [
    "读取excel数据。"
   ],
   "metadata": {
    "collapsed": false
   }
  },
  {
   "cell_type": "code",
   "execution_count": 84,
   "outputs": [
    {
     "data": {
      "text/plain": "      price    length        x3         y sex    price2\n2  0.904925 -0.224031  0.595433  0.013984   F  0.904925\n3 -0.553977 -0.578244  0.204304 -1.992026   F -0.553977\n4  1.607503  1.855087  0.857693 -0.815639   F  1.607503\n5 -0.898555  0.422171  0.138604 -0.225942   M -0.898555\n6  3.383840  0.656177 -1.877143 -0.334412   M  3.383840\n7  1.077794  0.444402  2.587604 -0.390135   M  1.077794\n8  2.230877 -0.012570 -2.140316  0.366736   M  2.230877",
      "text/html": "<div>\n<style scoped>\n    .dataframe tbody tr th:only-of-type {\n        vertical-align: middle;\n    }\n\n    .dataframe tbody tr th {\n        vertical-align: top;\n    }\n\n    .dataframe thead th {\n        text-align: right;\n    }\n</style>\n<table border=\"1\" class=\"dataframe\">\n  <thead>\n    <tr style=\"text-align: right;\">\n      <th></th>\n      <th>price</th>\n      <th>length</th>\n      <th>x3</th>\n      <th>y</th>\n      <th>sex</th>\n      <th>price2</th>\n    </tr>\n  </thead>\n  <tbody>\n    <tr>\n      <th>2</th>\n      <td>0.904925</td>\n      <td>-0.224031</td>\n      <td>0.595433</td>\n      <td>0.013984</td>\n      <td>F</td>\n      <td>0.904925</td>\n    </tr>\n    <tr>\n      <th>3</th>\n      <td>-0.553977</td>\n      <td>-0.578244</td>\n      <td>0.204304</td>\n      <td>-1.992026</td>\n      <td>F</td>\n      <td>-0.553977</td>\n    </tr>\n    <tr>\n      <th>4</th>\n      <td>1.607503</td>\n      <td>1.855087</td>\n      <td>0.857693</td>\n      <td>-0.815639</td>\n      <td>F</td>\n      <td>1.607503</td>\n    </tr>\n    <tr>\n      <th>5</th>\n      <td>-0.898555</td>\n      <td>0.422171</td>\n      <td>0.138604</td>\n      <td>-0.225942</td>\n      <td>M</td>\n      <td>-0.898555</td>\n    </tr>\n    <tr>\n      <th>6</th>\n      <td>3.383840</td>\n      <td>0.656177</td>\n      <td>-1.877143</td>\n      <td>-0.334412</td>\n      <td>M</td>\n      <td>3.383840</td>\n    </tr>\n    <tr>\n      <th>7</th>\n      <td>1.077794</td>\n      <td>0.444402</td>\n      <td>2.587604</td>\n      <td>-0.390135</td>\n      <td>M</td>\n      <td>1.077794</td>\n    </tr>\n    <tr>\n      <th>8</th>\n      <td>2.230877</td>\n      <td>-0.012570</td>\n      <td>-2.140316</td>\n      <td>0.366736</td>\n      <td>M</td>\n      <td>2.230877</td>\n    </tr>\n  </tbody>\n</table>\n</div>"
     },
     "execution_count": 84,
     "metadata": {},
     "output_type": "execute_result"
    }
   ],
   "source": [
    "## 读取excel数据\n",
    "dfxls = pd.read_excel('Data/Df.xlsx','dfexcel',index_col=0)\n",
    "dfxls"
   ],
   "metadata": {
    "collapsed": false,
    "pycharm": {
     "name": "#%%\n"
    }
   }
  },
  {
   "cell_type": "markdown",
   "source": [
    "## 3 数据框的简单计算和数据操作\n",
    "### 3.1 数据的生成和转置"
   ],
   "metadata": {
    "collapsed": false,
    "pycharm": {
     "name": "#%% md\n"
    }
   }
  },
  {
   "cell_type": "code",
   "execution_count": 135,
   "outputs": [
    {
     "data": {
      "text/plain": "          A         B         C         D\n1  0.904925 -0.224031  0.595433  0.013984\n2 -0.553977 -0.578244  0.204304 -1.992026\n3  1.607503  1.855087  0.857693 -0.815639\n4 -0.898555  0.422171  0.138604 -0.225942\n5  3.383840  0.656177 -1.877143 -0.334412\n6  1.077794  0.444402  2.587604 -0.390135\n7  2.230877 -0.012570 -2.140316  0.366736",
      "text/html": "<div>\n<style scoped>\n    .dataframe tbody tr th:only-of-type {\n        vertical-align: middle;\n    }\n\n    .dataframe tbody tr th {\n        vertical-align: top;\n    }\n\n    .dataframe thead th {\n        text-align: right;\n    }\n</style>\n<table border=\"1\" class=\"dataframe\">\n  <thead>\n    <tr style=\"text-align: right;\">\n      <th></th>\n      <th>A</th>\n      <th>B</th>\n      <th>C</th>\n      <th>D</th>\n    </tr>\n  </thead>\n  <tbody>\n    <tr>\n      <th>1</th>\n      <td>0.904925</td>\n      <td>-0.224031</td>\n      <td>0.595433</td>\n      <td>0.013984</td>\n    </tr>\n    <tr>\n      <th>2</th>\n      <td>-0.553977</td>\n      <td>-0.578244</td>\n      <td>0.204304</td>\n      <td>-1.992026</td>\n    </tr>\n    <tr>\n      <th>3</th>\n      <td>1.607503</td>\n      <td>1.855087</td>\n      <td>0.857693</td>\n      <td>-0.815639</td>\n    </tr>\n    <tr>\n      <th>4</th>\n      <td>-0.898555</td>\n      <td>0.422171</td>\n      <td>0.138604</td>\n      <td>-0.225942</td>\n    </tr>\n    <tr>\n      <th>5</th>\n      <td>3.383840</td>\n      <td>0.656177</td>\n      <td>-1.877143</td>\n      <td>-0.334412</td>\n    </tr>\n    <tr>\n      <th>6</th>\n      <td>1.077794</td>\n      <td>0.444402</td>\n      <td>2.587604</td>\n      <td>-0.390135</td>\n    </tr>\n    <tr>\n      <th>7</th>\n      <td>2.230877</td>\n      <td>-0.012570</td>\n      <td>-2.140316</td>\n      <td>0.366736</td>\n    </tr>\n  </tbody>\n</table>\n</div>"
     },
     "execution_count": 135,
     "metadata": {},
     "output_type": "execute_result"
    }
   ],
   "source": [
    "np.random.seed(523)\n",
    "df = pd.DataFrame(np.random.randn(7,4),columns=['A','B','C','D'])\n",
    "#df['sex']=['F']*3+['M']*4\n",
    "df.index = range(1,8)\n",
    "df"
   ],
   "metadata": {
    "collapsed": false,
    "pycharm": {
     "name": "#%%\n"
    }
   }
  },
  {
   "cell_type": "markdown",
   "source": [
    "数据框转置，`df.T`。"
   ],
   "metadata": {
    "collapsed": false,
    "pycharm": {
     "name": "#%% md\n"
    }
   }
  },
  {
   "cell_type": "code",
   "execution_count": null,
   "outputs": [],
   "source": [
    "df2 = df.T\n",
    "df2\n",
    "df2.columns = ['A','B','C','D','E','F','G']\n",
    "df2.index=range(1,5)\n",
    "df2"
   ],
   "metadata": {
    "collapsed": false,
    "pycharm": {
     "name": "#%%\n"
    }
   }
  },
  {
   "cell_type": "markdown",
   "source": [
    "### 3.2 数据框的加法减法\n",
    "只有变量名、行名、数据类型对的上的元素才能相加，不匹配的元素相加会显示为`NaN`。"
   ],
   "metadata": {
    "collapsed": false,
    "pycharm": {
     "name": "#%% md\n"
    }
   }
  },
  {
   "cell_type": "code",
   "execution_count": 137,
   "outputs": [
    {
     "data": {
      "text/plain": "          A         B         C         D   E   F   G\n1  0.000000  0.329946 -1.012070  0.912539 NaN NaN NaN\n2 -0.329946  0.000000 -1.650783 -2.414198 NaN NaN NaN\n3  1.012070  1.650783  0.000000 -0.954243 NaN NaN NaN\n4 -0.912539  2.414198  0.954243  0.000000 NaN NaN NaN\n5       NaN       NaN       NaN       NaN NaN NaN NaN\n6       NaN       NaN       NaN       NaN NaN NaN NaN\n7       NaN       NaN       NaN       NaN NaN NaN NaN",
      "text/html": "<div>\n<style scoped>\n    .dataframe tbody tr th:only-of-type {\n        vertical-align: middle;\n    }\n\n    .dataframe tbody tr th {\n        vertical-align: top;\n    }\n\n    .dataframe thead th {\n        text-align: right;\n    }\n</style>\n<table border=\"1\" class=\"dataframe\">\n  <thead>\n    <tr style=\"text-align: right;\">\n      <th></th>\n      <th>A</th>\n      <th>B</th>\n      <th>C</th>\n      <th>D</th>\n      <th>E</th>\n      <th>F</th>\n      <th>G</th>\n    </tr>\n  </thead>\n  <tbody>\n    <tr>\n      <th>1</th>\n      <td>0.000000</td>\n      <td>0.329946</td>\n      <td>-1.012070</td>\n      <td>0.912539</td>\n      <td>NaN</td>\n      <td>NaN</td>\n      <td>NaN</td>\n    </tr>\n    <tr>\n      <th>2</th>\n      <td>-0.329946</td>\n      <td>0.000000</td>\n      <td>-1.650783</td>\n      <td>-2.414198</td>\n      <td>NaN</td>\n      <td>NaN</td>\n      <td>NaN</td>\n    </tr>\n    <tr>\n      <th>3</th>\n      <td>1.012070</td>\n      <td>1.650783</td>\n      <td>0.000000</td>\n      <td>-0.954243</td>\n      <td>NaN</td>\n      <td>NaN</td>\n      <td>NaN</td>\n    </tr>\n    <tr>\n      <th>4</th>\n      <td>-0.912539</td>\n      <td>2.414198</td>\n      <td>0.954243</td>\n      <td>0.000000</td>\n      <td>NaN</td>\n      <td>NaN</td>\n      <td>NaN</td>\n    </tr>\n    <tr>\n      <th>5</th>\n      <td>NaN</td>\n      <td>NaN</td>\n      <td>NaN</td>\n      <td>NaN</td>\n      <td>NaN</td>\n      <td>NaN</td>\n      <td>NaN</td>\n    </tr>\n    <tr>\n      <th>6</th>\n      <td>NaN</td>\n      <td>NaN</td>\n      <td>NaN</td>\n      <td>NaN</td>\n      <td>NaN</td>\n      <td>NaN</td>\n      <td>NaN</td>\n    </tr>\n    <tr>\n      <th>7</th>\n      <td>NaN</td>\n      <td>NaN</td>\n      <td>NaN</td>\n      <td>NaN</td>\n      <td>NaN</td>\n      <td>NaN</td>\n      <td>NaN</td>\n    </tr>\n  </tbody>\n</table>\n</div>"
     },
     "execution_count": 137,
     "metadata": {},
     "output_type": "execute_result"
    }
   ],
   "source": [
    "df3=df-df2\n",
    "df3"
   ],
   "metadata": {
    "collapsed": false,
    "pycharm": {
     "name": "#%%\n"
    }
   }
  },
  {
   "cell_type": "markdown",
   "source": [
    "### 3.3 计算变量的增长率\n",
    "使用*错位相减*方法，计算变量A的增长率。"
   ],
   "metadata": {
    "collapsed": false,
    "pycharm": {
     "name": "#%% md\n"
    }
   }
  },
  {
   "cell_type": "code",
   "execution_count": 143,
   "outputs": [
    {
     "data": {
      "text/plain": "          A         B         C         D  A_growth\n1  0.904925 -0.224031  0.595433  0.013984       NaN\n2 -0.553977 -0.578244  0.204304 -1.992026 -1.612180\n3  1.607503  1.855087  0.857693 -0.815639 -3.901751\n4 -0.898555  0.422171  0.138604 -0.225942 -1.558976\n5  3.383840  0.656177 -1.877143 -0.334412 -4.765868\n6  1.077794  0.444402  2.587604 -0.390135 -0.681488\n7  2.230877 -0.012570 -2.140316  0.366736  1.069854",
      "text/html": "<div>\n<style scoped>\n    .dataframe tbody tr th:only-of-type {\n        vertical-align: middle;\n    }\n\n    .dataframe tbody tr th {\n        vertical-align: top;\n    }\n\n    .dataframe thead th {\n        text-align: right;\n    }\n</style>\n<table border=\"1\" class=\"dataframe\">\n  <thead>\n    <tr style=\"text-align: right;\">\n      <th></th>\n      <th>A</th>\n      <th>B</th>\n      <th>C</th>\n      <th>D</th>\n      <th>A_growth</th>\n    </tr>\n  </thead>\n  <tbody>\n    <tr>\n      <th>1</th>\n      <td>0.904925</td>\n      <td>-0.224031</td>\n      <td>0.595433</td>\n      <td>0.013984</td>\n      <td>NaN</td>\n    </tr>\n    <tr>\n      <th>2</th>\n      <td>-0.553977</td>\n      <td>-0.578244</td>\n      <td>0.204304</td>\n      <td>-1.992026</td>\n      <td>-1.612180</td>\n    </tr>\n    <tr>\n      <th>3</th>\n      <td>1.607503</td>\n      <td>1.855087</td>\n      <td>0.857693</td>\n      <td>-0.815639</td>\n      <td>-3.901751</td>\n    </tr>\n    <tr>\n      <th>4</th>\n      <td>-0.898555</td>\n      <td>0.422171</td>\n      <td>0.138604</td>\n      <td>-0.225942</td>\n      <td>-1.558976</td>\n    </tr>\n    <tr>\n      <th>5</th>\n      <td>3.383840</td>\n      <td>0.656177</td>\n      <td>-1.877143</td>\n      <td>-0.334412</td>\n      <td>-4.765868</td>\n    </tr>\n    <tr>\n      <th>6</th>\n      <td>1.077794</td>\n      <td>0.444402</td>\n      <td>2.587604</td>\n      <td>-0.390135</td>\n      <td>-0.681488</td>\n    </tr>\n    <tr>\n      <th>7</th>\n      <td>2.230877</td>\n      <td>-0.012570</td>\n      <td>-2.140316</td>\n      <td>0.366736</td>\n      <td>1.069854</td>\n    </tr>\n  </tbody>\n</table>\n</div>"
     },
     "execution_count": 143,
     "metadata": {},
     "output_type": "execute_result"
    }
   ],
   "source": [
    "df['A_growth'] = df['A']/(df['A']-df['A'].diff())-1\n",
    "df"
   ],
   "metadata": {
    "collapsed": false,
    "pycharm": {
     "name": "#%%\n"
    }
   }
  },
  {
   "cell_type": "markdown",
   "source": [
    "### 3.4 通过变量的值筛选数据\n",
    "选择A小于0，或者增长率大于1的A,B,C和A_growth列，下面两种写法结果一致。"
   ],
   "metadata": {
    "collapsed": false,
    "pycharm": {
     "name": "#%% md\n"
    }
   }
  },
  {
   "cell_type": "code",
   "execution_count": 145,
   "outputs": [
    {
     "data": {
      "text/plain": "          A         B         C  A_growth\n2 -0.553977 -0.578244  0.204304 -1.612180\n4 -0.898555  0.422171  0.138604 -1.558976\n7  2.230877 -0.012570 -2.140316  1.069854",
      "text/html": "<div>\n<style scoped>\n    .dataframe tbody tr th:only-of-type {\n        vertical-align: middle;\n    }\n\n    .dataframe tbody tr th {\n        vertical-align: top;\n    }\n\n    .dataframe thead th {\n        text-align: right;\n    }\n</style>\n<table border=\"1\" class=\"dataframe\">\n  <thead>\n    <tr style=\"text-align: right;\">\n      <th></th>\n      <th>A</th>\n      <th>B</th>\n      <th>C</th>\n      <th>A_growth</th>\n    </tr>\n  </thead>\n  <tbody>\n    <tr>\n      <th>2</th>\n      <td>-0.553977</td>\n      <td>-0.578244</td>\n      <td>0.204304</td>\n      <td>-1.612180</td>\n    </tr>\n    <tr>\n      <th>4</th>\n      <td>-0.898555</td>\n      <td>0.422171</td>\n      <td>0.138604</td>\n      <td>-1.558976</td>\n    </tr>\n    <tr>\n      <th>7</th>\n      <td>2.230877</td>\n      <td>-0.012570</td>\n      <td>-2.140316</td>\n      <td>1.069854</td>\n    </tr>\n  </tbody>\n</table>\n</div>"
     },
     "execution_count": 145,
     "metadata": {},
     "output_type": "execute_result"
    }
   ],
   "source": [
    "df.loc[(df['A']<0)|(df.A_growth>1),['A','B','C','A_growth']]\n",
    "df.loc[(df['A']<0)|(df.A_growth>1)][['A','B','C','A_growth']]"
   ],
   "metadata": {
    "collapsed": false,
    "pycharm": {
     "name": "#%%\n"
    }
   }
  },
  {
   "cell_type": "markdown",
   "source": [
    "### 3.5 按照多个变量进行排序\n",
    "把数据df中的每个数据按type进行降序排序，type内每类进行升序排序。"
   ],
   "metadata": {
    "collapsed": false,
    "pycharm": {
     "name": "#%% md\n"
    }
   }
  },
  {
   "cell_type": "code",
   "execution_count": 147,
   "outputs": [
    {
     "data": {
      "text/plain": "          A         B         C         D  A_growth   type\n7  2.230877 -0.012570 -2.140316  0.366736  1.069854  type3\n4 -0.898555  0.422171  0.138604 -0.225942 -1.558976  type2\n3  1.607503  1.855087  0.857693 -0.815639 -3.901751  type2\n2 -0.553977 -0.578244  0.204304 -1.992026 -1.612180  type1\n1  0.904925 -0.224031  0.595433  0.013984       NaN  type1\n6  1.077794  0.444402  2.587604 -0.390135 -0.681488  type1\n5  3.383840  0.656177 -1.877143 -0.334412 -4.765868  type1",
      "text/html": "<div>\n<style scoped>\n    .dataframe tbody tr th:only-of-type {\n        vertical-align: middle;\n    }\n\n    .dataframe tbody tr th {\n        vertical-align: top;\n    }\n\n    .dataframe thead th {\n        text-align: right;\n    }\n</style>\n<table border=\"1\" class=\"dataframe\">\n  <thead>\n    <tr style=\"text-align: right;\">\n      <th></th>\n      <th>A</th>\n      <th>B</th>\n      <th>C</th>\n      <th>D</th>\n      <th>A_growth</th>\n      <th>type</th>\n    </tr>\n  </thead>\n  <tbody>\n    <tr>\n      <th>7</th>\n      <td>2.230877</td>\n      <td>-0.012570</td>\n      <td>-2.140316</td>\n      <td>0.366736</td>\n      <td>1.069854</td>\n      <td>type3</td>\n    </tr>\n    <tr>\n      <th>4</th>\n      <td>-0.898555</td>\n      <td>0.422171</td>\n      <td>0.138604</td>\n      <td>-0.225942</td>\n      <td>-1.558976</td>\n      <td>type2</td>\n    </tr>\n    <tr>\n      <th>3</th>\n      <td>1.607503</td>\n      <td>1.855087</td>\n      <td>0.857693</td>\n      <td>-0.815639</td>\n      <td>-3.901751</td>\n      <td>type2</td>\n    </tr>\n    <tr>\n      <th>2</th>\n      <td>-0.553977</td>\n      <td>-0.578244</td>\n      <td>0.204304</td>\n      <td>-1.992026</td>\n      <td>-1.612180</td>\n      <td>type1</td>\n    </tr>\n    <tr>\n      <th>1</th>\n      <td>0.904925</td>\n      <td>-0.224031</td>\n      <td>0.595433</td>\n      <td>0.013984</td>\n      <td>NaN</td>\n      <td>type1</td>\n    </tr>\n    <tr>\n      <th>6</th>\n      <td>1.077794</td>\n      <td>0.444402</td>\n      <td>2.587604</td>\n      <td>-0.390135</td>\n      <td>-0.681488</td>\n      <td>type1</td>\n    </tr>\n    <tr>\n      <th>5</th>\n      <td>3.383840</td>\n      <td>0.656177</td>\n      <td>-1.877143</td>\n      <td>-0.334412</td>\n      <td>-4.765868</td>\n      <td>type1</td>\n    </tr>\n  </tbody>\n</table>\n</div>"
     },
     "execution_count": 147,
     "metadata": {},
     "output_type": "execute_result"
    }
   ],
   "source": [
    "df['type'] = ['type1']*2+['type2']*2+['type1']*2+['type3']\n",
    "df.sort_values(by=['type','B'],ascending=[False,True])"
   ],
   "metadata": {
    "collapsed": false,
    "pycharm": {
     "name": "#%%\n"
    }
   }
  },
  {
   "cell_type": "markdown",
   "source": [
    "### 3.6 根据变量条件建立新变量\n",
    "根据数据df中的A建立新变量AType,大于0为`positive`，小于等于0 为`negtive`。"
   ],
   "metadata": {
    "collapsed": false,
    "pycharm": {
     "name": "#%% md\n"
    }
   }
  },
  {
   "cell_type": "code",
   "execution_count": 149,
   "outputs": [
    {
     "data": {
      "text/plain": "          A         B         C         D  A_growth   type     AType\n1  0.904925 -0.224031  0.595433  0.013984       NaN  type1  positive\n2 -0.553977 -0.578244  0.204304 -1.992026 -1.612180  type1   negtive\n3  1.607503  1.855087  0.857693 -0.815639 -3.901751  type2  positive\n4 -0.898555  0.422171  0.138604 -0.225942 -1.558976  type2   negtive\n5  3.383840  0.656177 -1.877143 -0.334412 -4.765868  type1  positive\n6  1.077794  0.444402  2.587604 -0.390135 -0.681488  type1  positive\n7  2.230877 -0.012570 -2.140316  0.366736  1.069854  type3  positive",
      "text/html": "<div>\n<style scoped>\n    .dataframe tbody tr th:only-of-type {\n        vertical-align: middle;\n    }\n\n    .dataframe tbody tr th {\n        vertical-align: top;\n    }\n\n    .dataframe thead th {\n        text-align: right;\n    }\n</style>\n<table border=\"1\" class=\"dataframe\">\n  <thead>\n    <tr style=\"text-align: right;\">\n      <th></th>\n      <th>A</th>\n      <th>B</th>\n      <th>C</th>\n      <th>D</th>\n      <th>A_growth</th>\n      <th>type</th>\n      <th>AType</th>\n    </tr>\n  </thead>\n  <tbody>\n    <tr>\n      <th>1</th>\n      <td>0.904925</td>\n      <td>-0.224031</td>\n      <td>0.595433</td>\n      <td>0.013984</td>\n      <td>NaN</td>\n      <td>type1</td>\n      <td>positive</td>\n    </tr>\n    <tr>\n      <th>2</th>\n      <td>-0.553977</td>\n      <td>-0.578244</td>\n      <td>0.204304</td>\n      <td>-1.992026</td>\n      <td>-1.612180</td>\n      <td>type1</td>\n      <td>negtive</td>\n    </tr>\n    <tr>\n      <th>3</th>\n      <td>1.607503</td>\n      <td>1.855087</td>\n      <td>0.857693</td>\n      <td>-0.815639</td>\n      <td>-3.901751</td>\n      <td>type2</td>\n      <td>positive</td>\n    </tr>\n    <tr>\n      <th>4</th>\n      <td>-0.898555</td>\n      <td>0.422171</td>\n      <td>0.138604</td>\n      <td>-0.225942</td>\n      <td>-1.558976</td>\n      <td>type2</td>\n      <td>negtive</td>\n    </tr>\n    <tr>\n      <th>5</th>\n      <td>3.383840</td>\n      <td>0.656177</td>\n      <td>-1.877143</td>\n      <td>-0.334412</td>\n      <td>-4.765868</td>\n      <td>type1</td>\n      <td>positive</td>\n    </tr>\n    <tr>\n      <th>6</th>\n      <td>1.077794</td>\n      <td>0.444402</td>\n      <td>2.587604</td>\n      <td>-0.390135</td>\n      <td>-0.681488</td>\n      <td>type1</td>\n      <td>positive</td>\n    </tr>\n    <tr>\n      <th>7</th>\n      <td>2.230877</td>\n      <td>-0.012570</td>\n      <td>-2.140316</td>\n      <td>0.366736</td>\n      <td>1.069854</td>\n      <td>type3</td>\n      <td>positive</td>\n    </tr>\n  </tbody>\n</table>\n</div>"
     },
     "execution_count": 149,
     "metadata": {},
     "output_type": "execute_result"
    }
   ],
   "source": [
    "df.loc[df.A>0,'AType']='positive'\n",
    "df.loc[df.A<=0,'AType']='negtive'\n",
    "df"
   ],
   "metadata": {
    "collapsed": false,
    "pycharm": {
     "name": "#%%\n"
    }
   }
  },
  {
   "cell_type": "markdown",
   "source": [
    "### 3.7 在已有的数据框中插新变量\n",
    "使用`insert`函数将`id`插入到第0列。若插入同名变量，需设置`allow_duplicates=True`。"
   ],
   "metadata": {
    "collapsed": false,
    "pycharm": {
     "name": "#%% md\n"
    }
   }
  },
  {
   "cell_type": "code",
   "execution_count": 154,
   "outputs": [
    {
     "data": {
      "text/plain": "         id         A         B         C         D  id  A_growth   type  \\\n1 -1.177166  0.904925 -0.224031  0.595433  0.013984   0       NaN  type1   \n2  0.432647 -0.553977 -0.578244  0.204304 -1.992026   0 -1.612180  type1   \n3 -0.738951  1.607503  1.855087  0.857693 -0.815639   0 -3.901751  type2   \n4 -0.271930 -0.898555  0.422171  0.138604 -0.225942   0 -1.558976  type2   \n5 -0.065799  3.383840  0.656177 -1.877143 -0.334412   0 -4.765868  type1   \n6  0.655757  1.077794  0.444402  2.587604 -0.390135   0 -0.681488  type1   \n7  0.399487  2.230877 -0.012570 -2.140316  0.366736   0  1.069854  type3   \n\n      AType  \n1  positive  \n2   negtive  \n3  positive  \n4   negtive  \n5  positive  \n6  positive  \n7  positive  ",
      "text/html": "<div>\n<style scoped>\n    .dataframe tbody tr th:only-of-type {\n        vertical-align: middle;\n    }\n\n    .dataframe tbody tr th {\n        vertical-align: top;\n    }\n\n    .dataframe thead th {\n        text-align: right;\n    }\n</style>\n<table border=\"1\" class=\"dataframe\">\n  <thead>\n    <tr style=\"text-align: right;\">\n      <th></th>\n      <th>id</th>\n      <th>A</th>\n      <th>B</th>\n      <th>C</th>\n      <th>D</th>\n      <th>id</th>\n      <th>A_growth</th>\n      <th>type</th>\n      <th>AType</th>\n    </tr>\n  </thead>\n  <tbody>\n    <tr>\n      <th>1</th>\n      <td>-1.177166</td>\n      <td>0.904925</td>\n      <td>-0.224031</td>\n      <td>0.595433</td>\n      <td>0.013984</td>\n      <td>0</td>\n      <td>NaN</td>\n      <td>type1</td>\n      <td>positive</td>\n    </tr>\n    <tr>\n      <th>2</th>\n      <td>0.432647</td>\n      <td>-0.553977</td>\n      <td>-0.578244</td>\n      <td>0.204304</td>\n      <td>-1.992026</td>\n      <td>0</td>\n      <td>-1.612180</td>\n      <td>type1</td>\n      <td>negtive</td>\n    </tr>\n    <tr>\n      <th>3</th>\n      <td>-0.738951</td>\n      <td>1.607503</td>\n      <td>1.855087</td>\n      <td>0.857693</td>\n      <td>-0.815639</td>\n      <td>0</td>\n      <td>-3.901751</td>\n      <td>type2</td>\n      <td>positive</td>\n    </tr>\n    <tr>\n      <th>4</th>\n      <td>-0.271930</td>\n      <td>-0.898555</td>\n      <td>0.422171</td>\n      <td>0.138604</td>\n      <td>-0.225942</td>\n      <td>0</td>\n      <td>-1.558976</td>\n      <td>type2</td>\n      <td>negtive</td>\n    </tr>\n    <tr>\n      <th>5</th>\n      <td>-0.065799</td>\n      <td>3.383840</td>\n      <td>0.656177</td>\n      <td>-1.877143</td>\n      <td>-0.334412</td>\n      <td>0</td>\n      <td>-4.765868</td>\n      <td>type1</td>\n      <td>positive</td>\n    </tr>\n    <tr>\n      <th>6</th>\n      <td>0.655757</td>\n      <td>1.077794</td>\n      <td>0.444402</td>\n      <td>2.587604</td>\n      <td>-0.390135</td>\n      <td>0</td>\n      <td>-0.681488</td>\n      <td>type1</td>\n      <td>positive</td>\n    </tr>\n    <tr>\n      <th>7</th>\n      <td>0.399487</td>\n      <td>2.230877</td>\n      <td>-0.012570</td>\n      <td>-2.140316</td>\n      <td>0.366736</td>\n      <td>0</td>\n      <td>1.069854</td>\n      <td>type3</td>\n      <td>positive</td>\n    </tr>\n  </tbody>\n</table>\n</div>"
     },
     "execution_count": 154,
     "metadata": {},
     "output_type": "execute_result"
    }
   ],
   "source": [
    "df.insert(loc=0,column='id',value=np.random.randn(7))\n",
    "df\n",
    "df.insert(5,'id',0,allow_duplicates=True)\n",
    "df"
   ],
   "metadata": {
    "collapsed": false,
    "pycharm": {
     "name": "#%%\n"
    }
   }
  },
  {
   "cell_type": "markdown",
   "source": [
    "### 3.8 删除数据框的变量和观测值\n",
    "使用`drop`变量,删除数据框df中的1，3，5行以及id变量。"
   ],
   "metadata": {
    "collapsed": false,
    "pycharm": {
     "name": "#%% md\n"
    }
   }
  },
  {
   "cell_type": "code",
   "execution_count": 156,
   "outputs": [
    {
     "data": {
      "text/plain": "          A         B         C         D  A_growth   type     AType\n2 -0.553977 -0.578244  0.204304 -1.992026 -1.612180  type1   negtive\n4 -0.898555  0.422171  0.138604 -0.225942 -1.558976  type2   negtive\n6  1.077794  0.444402  2.587604 -0.390135 -0.681488  type1  positive\n7  2.230877 -0.012570 -2.140316  0.366736  1.069854  type3  positive",
      "text/html": "<div>\n<style scoped>\n    .dataframe tbody tr th:only-of-type {\n        vertical-align: middle;\n    }\n\n    .dataframe tbody tr th {\n        vertical-align: top;\n    }\n\n    .dataframe thead th {\n        text-align: right;\n    }\n</style>\n<table border=\"1\" class=\"dataframe\">\n  <thead>\n    <tr style=\"text-align: right;\">\n      <th></th>\n      <th>A</th>\n      <th>B</th>\n      <th>C</th>\n      <th>D</th>\n      <th>A_growth</th>\n      <th>type</th>\n      <th>AType</th>\n    </tr>\n  </thead>\n  <tbody>\n    <tr>\n      <th>2</th>\n      <td>-0.553977</td>\n      <td>-0.578244</td>\n      <td>0.204304</td>\n      <td>-1.992026</td>\n      <td>-1.612180</td>\n      <td>type1</td>\n      <td>negtive</td>\n    </tr>\n    <tr>\n      <th>4</th>\n      <td>-0.898555</td>\n      <td>0.422171</td>\n      <td>0.138604</td>\n      <td>-0.225942</td>\n      <td>-1.558976</td>\n      <td>type2</td>\n      <td>negtive</td>\n    </tr>\n    <tr>\n      <th>6</th>\n      <td>1.077794</td>\n      <td>0.444402</td>\n      <td>2.587604</td>\n      <td>-0.390135</td>\n      <td>-0.681488</td>\n      <td>type1</td>\n      <td>positive</td>\n    </tr>\n    <tr>\n      <th>7</th>\n      <td>2.230877</td>\n      <td>-0.012570</td>\n      <td>-2.140316</td>\n      <td>0.366736</td>\n      <td>1.069854</td>\n      <td>type3</td>\n      <td>positive</td>\n    </tr>\n  </tbody>\n</table>\n</div>"
     },
     "execution_count": 156,
     "metadata": {},
     "output_type": "execute_result"
    }
   ],
   "source": [
    "df_new = df.drop(index=[1,3,5],columns='id')\n",
    "df_new"
   ],
   "metadata": {
    "collapsed": false,
    "pycharm": {
     "name": "#%%\n"
    }
   }
  },
  {
   "cell_type": "markdown",
   "source": [
    "## 4 长宽数据转换及数据集之间的合并\n",
    "### 4.1 长宽数据转换\n",
    "使用`melt`实现宽数据转长数据。`id_vars`是要保留的主字段，`var_name`拉长的分类变量，`value_name`拉长的度量值名称。"
   ],
   "metadata": {
    "collapsed": false
   }
  },
  {
   "cell_type": "code",
   "execution_count": 167,
   "outputs": [
    {
     "data": {
      "text/plain": "   名称 产地  Sale2013  Sale2014  Sale2015  Sale2016\n0  苹果  A      5000      5050      5050      5050\n1  香蕉  B      3500      3800      3800      3800\n2  橘子  C      2300      2900      2900      2900\n3   梨  D      2100      2500      2500      2500\n4  葡萄  E      3100      3300      3300      3300",
      "text/html": "<div>\n<style scoped>\n    .dataframe tbody tr th:only-of-type {\n        vertical-align: middle;\n    }\n\n    .dataframe tbody tr th {\n        vertical-align: top;\n    }\n\n    .dataframe thead th {\n        text-align: right;\n    }\n</style>\n<table border=\"1\" class=\"dataframe\">\n  <thead>\n    <tr style=\"text-align: right;\">\n      <th></th>\n      <th>名称</th>\n      <th>产地</th>\n      <th>Sale2013</th>\n      <th>Sale2014</th>\n      <th>Sale2015</th>\n      <th>Sale2016</th>\n    </tr>\n  </thead>\n  <tbody>\n    <tr>\n      <th>0</th>\n      <td>苹果</td>\n      <td>A</td>\n      <td>5000</td>\n      <td>5050</td>\n      <td>5050</td>\n      <td>5050</td>\n    </tr>\n    <tr>\n      <th>1</th>\n      <td>香蕉</td>\n      <td>B</td>\n      <td>3500</td>\n      <td>3800</td>\n      <td>3800</td>\n      <td>3800</td>\n    </tr>\n    <tr>\n      <th>2</th>\n      <td>橘子</td>\n      <td>C</td>\n      <td>2300</td>\n      <td>2900</td>\n      <td>2900</td>\n      <td>2900</td>\n    </tr>\n    <tr>\n      <th>3</th>\n      <td>梨</td>\n      <td>D</td>\n      <td>2100</td>\n      <td>2500</td>\n      <td>2500</td>\n      <td>2500</td>\n    </tr>\n    <tr>\n      <th>4</th>\n      <td>葡萄</td>\n      <td>E</td>\n      <td>3100</td>\n      <td>3300</td>\n      <td>3300</td>\n      <td>3300</td>\n    </tr>\n  </tbody>\n</table>\n</div>"
     },
     "execution_count": 167,
     "metadata": {},
     "output_type": "execute_result"
    }
   ],
   "source": [
    "import pandas as pd\n",
    "import numpy as np\n",
    "df=pd.DataFrame({\n",
    "\"名称\":[\"苹果\",\"香蕉\",\"橘子\",\"梨\",\"葡萄\"],\n",
    "\"产地\":[\"A\",\"B\",\"C\",\"D\",\"E\"],\n",
    "\"Sale2013\":[5000,3500,2300,2100,3100],\n",
    "\"Sale2014\":[5050,3800,2900,2500,3300],\n",
    "\"Sale2015\":[5050,3800,2900,2500,3300],\n",
    "\"Sale2016\":[5050,3800,2900,2500,3300]\n",
    "       })\n",
    "df"
   ],
   "metadata": {
    "collapsed": false,
    "pycharm": {
     "name": "#%%\n"
    }
   }
  },
  {
   "cell_type": "code",
   "execution_count": 168,
   "outputs": [
    {
     "data": {
      "text/plain": "    名称 产地      Year  Sale\n0   苹果  A  Sale2013  5000\n1   香蕉  B  Sale2013  3500\n2   橘子  C  Sale2013  2300\n3    梨  D  Sale2013  2100\n4   葡萄  E  Sale2013  3100\n5   苹果  A  Sale2014  5050\n6   香蕉  B  Sale2014  3800\n7   橘子  C  Sale2014  2900\n8    梨  D  Sale2014  2500\n9   葡萄  E  Sale2014  3300\n10  苹果  A  Sale2015  5050\n11  香蕉  B  Sale2015  3800\n12  橘子  C  Sale2015  2900\n13   梨  D  Sale2015  2500\n14  葡萄  E  Sale2015  3300\n15  苹果  A  Sale2016  5050\n16  香蕉  B  Sale2016  3800\n17  橘子  C  Sale2016  2900\n18   梨  D  Sale2016  2500\n19  葡萄  E  Sale2016  3300",
      "text/html": "<div>\n<style scoped>\n    .dataframe tbody tr th:only-of-type {\n        vertical-align: middle;\n    }\n\n    .dataframe tbody tr th {\n        vertical-align: top;\n    }\n\n    .dataframe thead th {\n        text-align: right;\n    }\n</style>\n<table border=\"1\" class=\"dataframe\">\n  <thead>\n    <tr style=\"text-align: right;\">\n      <th></th>\n      <th>名称</th>\n      <th>产地</th>\n      <th>Year</th>\n      <th>Sale</th>\n    </tr>\n  </thead>\n  <tbody>\n    <tr>\n      <th>0</th>\n      <td>苹果</td>\n      <td>A</td>\n      <td>Sale2013</td>\n      <td>5000</td>\n    </tr>\n    <tr>\n      <th>1</th>\n      <td>香蕉</td>\n      <td>B</td>\n      <td>Sale2013</td>\n      <td>3500</td>\n    </tr>\n    <tr>\n      <th>2</th>\n      <td>橘子</td>\n      <td>C</td>\n      <td>Sale2013</td>\n      <td>2300</td>\n    </tr>\n    <tr>\n      <th>3</th>\n      <td>梨</td>\n      <td>D</td>\n      <td>Sale2013</td>\n      <td>2100</td>\n    </tr>\n    <tr>\n      <th>4</th>\n      <td>葡萄</td>\n      <td>E</td>\n      <td>Sale2013</td>\n      <td>3100</td>\n    </tr>\n    <tr>\n      <th>5</th>\n      <td>苹果</td>\n      <td>A</td>\n      <td>Sale2014</td>\n      <td>5050</td>\n    </tr>\n    <tr>\n      <th>6</th>\n      <td>香蕉</td>\n      <td>B</td>\n      <td>Sale2014</td>\n      <td>3800</td>\n    </tr>\n    <tr>\n      <th>7</th>\n      <td>橘子</td>\n      <td>C</td>\n      <td>Sale2014</td>\n      <td>2900</td>\n    </tr>\n    <tr>\n      <th>8</th>\n      <td>梨</td>\n      <td>D</td>\n      <td>Sale2014</td>\n      <td>2500</td>\n    </tr>\n    <tr>\n      <th>9</th>\n      <td>葡萄</td>\n      <td>E</td>\n      <td>Sale2014</td>\n      <td>3300</td>\n    </tr>\n    <tr>\n      <th>10</th>\n      <td>苹果</td>\n      <td>A</td>\n      <td>Sale2015</td>\n      <td>5050</td>\n    </tr>\n    <tr>\n      <th>11</th>\n      <td>香蕉</td>\n      <td>B</td>\n      <td>Sale2015</td>\n      <td>3800</td>\n    </tr>\n    <tr>\n      <th>12</th>\n      <td>橘子</td>\n      <td>C</td>\n      <td>Sale2015</td>\n      <td>2900</td>\n    </tr>\n    <tr>\n      <th>13</th>\n      <td>梨</td>\n      <td>D</td>\n      <td>Sale2015</td>\n      <td>2500</td>\n    </tr>\n    <tr>\n      <th>14</th>\n      <td>葡萄</td>\n      <td>E</td>\n      <td>Sale2015</td>\n      <td>3300</td>\n    </tr>\n    <tr>\n      <th>15</th>\n      <td>苹果</td>\n      <td>A</td>\n      <td>Sale2016</td>\n      <td>5050</td>\n    </tr>\n    <tr>\n      <th>16</th>\n      <td>香蕉</td>\n      <td>B</td>\n      <td>Sale2016</td>\n      <td>3800</td>\n    </tr>\n    <tr>\n      <th>17</th>\n      <td>橘子</td>\n      <td>C</td>\n      <td>Sale2016</td>\n      <td>2900</td>\n    </tr>\n    <tr>\n      <th>18</th>\n      <td>梨</td>\n      <td>D</td>\n      <td>Sale2016</td>\n      <td>2500</td>\n    </tr>\n    <tr>\n      <th>19</th>\n      <td>葡萄</td>\n      <td>E</td>\n      <td>Sale2016</td>\n      <td>3300</td>\n    </tr>\n  </tbody>\n</table>\n</div>"
     },
     "execution_count": 168,
     "metadata": {},
     "output_type": "execute_result"
    }
   ],
   "source": [
    "df1=df.melt(id_vars=[\"名称\",\"产地\"],   #要保留的主字段\n",
    "var_name=\"Year\",                     #拉长的分类变量\n",
    "value_name=\"Sale\")                  #拉长的度量值名称\n",
    "df1"
   ],
   "metadata": {
    "collapsed": false,
    "pycharm": {
     "name": "#%%\n"
    }
   }
  },
  {
   "cell_type": "markdown",
   "source": [
    "长数据转为宽数据可以通过透视的功能实现，类似于excel中的透视表功能。用`pivot`方法实现。index为透视的索引，columns是透视的列，values是透视的值。"
   ],
   "metadata": {
    "collapsed": false
   }
  },
  {
   "cell_type": "code",
   "execution_count": 169,
   "outputs": [
    {
     "data": {
      "text/plain": "Year   Sale2013  Sale2014  Sale2015  Sale2016\n名称 产地                                        \n苹果 A       5000      5050      5050      5050\n香蕉 B       3500      3800      3800      3800\n橘子 C       2300      2900      2900      2900\n梨  D       2100      2500      2500      2500\n葡萄 E       3100      3300      3300      3300",
      "text/html": "<div>\n<style scoped>\n    .dataframe tbody tr th:only-of-type {\n        vertical-align: middle;\n    }\n\n    .dataframe tbody tr th {\n        vertical-align: top;\n    }\n\n    .dataframe thead th {\n        text-align: right;\n    }\n</style>\n<table border=\"1\" class=\"dataframe\">\n  <thead>\n    <tr style=\"text-align: right;\">\n      <th></th>\n      <th>Year</th>\n      <th>Sale2013</th>\n      <th>Sale2014</th>\n      <th>Sale2015</th>\n      <th>Sale2016</th>\n    </tr>\n    <tr>\n      <th>名称</th>\n      <th>产地</th>\n      <th></th>\n      <th></th>\n      <th></th>\n      <th></th>\n    </tr>\n  </thead>\n  <tbody>\n    <tr>\n      <th>苹果</th>\n      <th>A</th>\n      <td>5000</td>\n      <td>5050</td>\n      <td>5050</td>\n      <td>5050</td>\n    </tr>\n    <tr>\n      <th>香蕉</th>\n      <th>B</th>\n      <td>3500</td>\n      <td>3800</td>\n      <td>3800</td>\n      <td>3800</td>\n    </tr>\n    <tr>\n      <th>橘子</th>\n      <th>C</th>\n      <td>2300</td>\n      <td>2900</td>\n      <td>2900</td>\n      <td>2900</td>\n    </tr>\n    <tr>\n      <th>梨</th>\n      <th>D</th>\n      <td>2100</td>\n      <td>2500</td>\n      <td>2500</td>\n      <td>2500</td>\n    </tr>\n    <tr>\n      <th>葡萄</th>\n      <th>E</th>\n      <td>3100</td>\n      <td>3300</td>\n      <td>3300</td>\n      <td>3300</td>\n    </tr>\n  </tbody>\n</table>\n</div>"
     },
     "execution_count": 169,
     "metadata": {},
     "output_type": "execute_result"
    }
   ],
   "source": [
    "df2 = df1.pivot(index='Year',columns=['名称','产地'],values='Sale').T\n",
    "df2"
   ],
   "metadata": {
    "collapsed": false,
    "pycharm": {
     "name": "#%%\n"
    }
   }
  },
  {
   "cell_type": "markdown",
   "source": [
    "### 4.2 数据合并\n",
    "使用`merge`进行合并，`on`为合并的关键字段，`how`为连接方式，`merge`函数默认连接方式是`inner`，另外有`left`,`right`,`outer`等，当两个数据集合并的列名不相同时用 left_on,right_on。"
   ],
   "metadata": {
    "collapsed": false
   }
  },
  {
   "cell_type": "code",
   "execution_count": 172,
   "outputs": [
    {
     "name": "stdout",
     "output_type": "stream",
     "text": [
      "  key  data2\n",
      "0   a      0\n",
      "1   b      1\n",
      "2   c      2\n",
      "3   d      3\n",
      "4   e      4\n",
      "  key  data1\n",
      "0   a      0\n",
      "1   b      1\n",
      "2   c      2\n",
      "  key  data2  data1\n",
      "0   a      0      0\n",
      "1   b      1      1\n",
      "2   c      2      2\n",
      "  key  data2  data1\n",
      "0   a      0    0.0\n",
      "1   b      1    1.0\n",
      "2   c      2    2.0\n",
      "3   d      3    NaN\n",
      "4   e      4    NaN\n",
      "  key  data2  data1\n",
      "0   a      0      0\n",
      "1   b      1      1\n",
      "2   c      2      2\n",
      "  key  data2  data1\n",
      "0   a      0    0.0\n",
      "1   b      1    1.0\n",
      "2   c      2    2.0\n",
      "3   d      3    NaN\n",
      "4   e      4    NaN\n",
      "  key1  data2  key  data1\n",
      "0    a      0    a    0.0\n",
      "1    b      1    b    1.0\n",
      "2    c      2    c    2.0\n",
      "3    d      3  NaN    NaN\n",
      "4    e      4  NaN    NaN\n"
     ]
    }
   ],
   "source": [
    "import pandas as pd\n",
    "import numpy as np\n",
    "df1=pd.DataFrame({'key':['a','b','c','d','e'],'data2':np.arange(5)})\n",
    "print(df1)\n",
    "df2=pd.DataFrame({'key':['a','b','c'],'data1':np.arange(3)})\n",
    "print(df2)\n",
    "df=pd.merge(df1,df2,on='key',how='inner')\n",
    "print(df)\n",
    "df=pd.merge(df1,df2,on='key',how='left')\n",
    "print(df)\n",
    "df=pd.merge(df1,df2,on='key',how='right')\n",
    "print(df)\n",
    "df=pd.merge(df1,df2,on='key',how='outer')\n",
    "print(df)\n",
    "df1=df1.rename(columns={'key':'key1'})\n",
    "df_new=pd.merge(df1,df2,left_on='key1',right_on='key',how='left')\n",
    "print(df_new)"
   ],
   "metadata": {
    "collapsed": false,
    "pycharm": {
     "name": "#%%\n"
    }
   }
  }
 ],
 "metadata": {
  "kernelspec": {
   "display_name": "Python 3",
   "language": "python",
   "name": "python3"
  },
  "language_info": {
   "codemirror_mode": {
    "name": "ipython",
    "version": 2
   },
   "file_extension": ".py",
   "mimetype": "text/x-python",
   "name": "python",
   "nbconvert_exporter": "python",
   "pygments_lexer": "ipython2",
   "version": "2.7.6"
  }
 },
 "nbformat": 4,
 "nbformat_minor": 0
}