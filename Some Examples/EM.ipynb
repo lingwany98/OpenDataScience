{
 "cells": [
  {
   "cell_type": "markdown",
   "source": [
    "## EM 算法简介\n",
    "\n",
    "如果有一个分布密度（质量）函数$p(x;\\theta)$，这里的$x={x_i}$为数据，而$\\theta$为参数，这时，参数$\\theta $的最大似然估计$(MLE)\\hat \\theta^{MLE}$应该使得对数似然函数$l(x;\\theta)=\\sum_i log p(x_i;\\theta)$最大：\n",
    "$$\n",
    "\\theta^{MLE}=argmax_{\\theta}l(x_i;\\theta)=argmax_{\\theta}\\{{\\sum_{i}logp(x_i;\\theta)}\\}\n",
    "$$\n",
    "如果除了已知数据外，还存在一些不可观测的变量$z={z_{j}}$，这时候对数似然函数为：\n",
    "$$\n",
    "l(x,z;\\theta)=\\sum_{i}log\\sum_{j}p(x_{i},z_{j};\\theta)\n",
    "$$\n",
    "这种在对数之后还有和号的情况使得无法通过常用的诸如梯度下降法等优化算法来求最大似然估计。针对这种情况，发明了EM算法，主要步骤为：\n",
    "\n",
    "**E步骤**：给定当前第n步的$\\theta^{(n)}$和数据$x$，求期望值：\n",
    "$$\n",
    "Q(\\theta;\\theta^{(n)})=E[l(x,z;\\theta)|x,\\theta^{(n)}]=\\sum_{j}l(x,z_{j};\\theta)p(x,z_{j},\\theta)\n",
    "$$\n",
    "**M步骤**：寻求$\\theta$，把E步骤得到的期望最大化：\n",
    "$$\n",
    "\\theta^{n+1}=argmax_{\\theta}Q(\\theta;\\theta^{(n)})\n",
    "$$\n",
    "然后回到E步骤继续迭代，直到收敛或$n$达到最大限定步数。\n",
    "\n",
    "## 案例练习\n",
    "\n",
    "在这里仅考虑两种不公平硬币的投掷数据，比较MLE和EM的结果。"
   ],
   "metadata": {
    "collapsed": false
   }
  },
  {
   "cell_type": "code",
   "execution_count": 7,
   "outputs": [
    {
     "name": "stdout",
     "output_type": "stream",
     "text": [
      "0.00548 0.00146\n",
      "0.00548 0.00146\n",
      "0.0014599998908460029 0.005479999293084045\n"
     ]
    }
   ],
   "source": [
    "import numpy as np\n",
    "n = 10000\n",
    "coin = [1,2,1,2,2,1,1,2,1,2]\n",
    "heads = [55,20,57,14,13,57,56,10,49,16]\n",
    "\n",
    "heads = np.array(heads).astype(float)\n",
    "coin = np.array(coin)\n",
    "\n",
    "p1MLE = heads[coin==1].sum()/(sum(coin==1)*n)\n",
    "p2MLE = heads[coin==2].sum()/(sum(coin==2)*n)\n",
    "\n",
    "print(p1MLE,p2MLE)\n",
    "\n",
    "# EM 算法\n",
    "np.random.seed(523)\n",
    "p1ME = np.random.uniform(0,1,1) # 用均匀分布猜测p1\n",
    "p2ME = np.random.uniform(0,1,1) # 用均匀分布猜测p2\n",
    "P1 = 0\n",
    "P2 = 0\n",
    "\n",
    "from scipy.stats import binom\n",
    "while (np.abs(p1ME-P1)>10**-15)&(np.abs(p2ME-P2)>10**-15):\n",
    "    P1 = p1ME\n",
    "    P2 = p2ME\n",
    "\n",
    "    den1 = binom.pmf(heads,n,p1ME)\n",
    "    den2 = binom.pmf(heads,n,p2ME)\n",
    "\n",
    "    # E 步骤\n",
    "    h1 = den1/(den1+den2)*heads\n",
    "    h2 = den2/(den1+den2)*heads\n",
    "\n",
    "    t1 = den1/(den1+den2)*(n-heads)\n",
    "    t2 = den2/(den1+den2)*(n-heads)\n",
    "    # M 步骤\n",
    "    p1ME = np.sum(h1)/np.sum((h1,t1))\n",
    "    p2ME = np.sum(h2)/np.sum((h2,t2))\n",
    "print(p1MLE,p2MLE)\n",
    "print(p1ME,p2ME)"
   ],
   "metadata": {
    "collapsed": false,
    "pycharm": {
     "name": "#%%\n"
    }
   }
  },
  {
   "cell_type": "code",
   "execution_count": null,
   "outputs": [],
   "source": [],
   "metadata": {
    "collapsed": false,
    "pycharm": {
     "name": "#%%\n"
    }
   }
  }
 ],
 "metadata": {
  "kernelspec": {
   "display_name": "Python 3",
   "language": "python",
   "name": "python3"
  },
  "language_info": {
   "codemirror_mode": {
    "name": "ipython",
    "version": 2
   },
   "file_extension": ".py",
   "mimetype": "text/x-python",
   "name": "python",
   "nbconvert_exporter": "python",
   "pygments_lexer": "ipython2",
   "version": "2.7.6"
  }
 },
 "nbformat": 4,
 "nbformat_minor": 0
}