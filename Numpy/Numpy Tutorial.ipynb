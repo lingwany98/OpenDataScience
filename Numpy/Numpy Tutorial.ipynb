{
 "cells": [
  {
   "cell_type": "markdown",
   "source": [
    "numpy是Python中使用最广泛的包之一，它很像R中的array数组，或者matrix及一维的向量。\n",
    "# numpy数组的生成\n",
    "## 在humpy中生成随机数\n",
    "numpy中有一个包叫做randam,包括很多生成随机数的函数。"
   ],
   "metadata": {
    "collapsed": false
   }
  },
  {
   "cell_type": "code",
   "execution_count": 3,
   "metadata": {
    "collapsed": true
   },
   "outputs": [
    {
     "data": {
      "text/plain": "(array([-7.6,  5. ,  2. , -7.6,  5. ,  5. , -7.6, -7.6,  5. ,  2. , -7.6,\n        -7.6, -7.6, -7.6,  2. , -7.6, -7.6, -7.6, -7.6,  5. ]),\n array([-7.6,  5. ]),\n array([9, 0, 3, 7, 2, 4, 6, 1, 8, 5]))"
     },
     "execution_count": 3,
     "metadata": {},
     "output_type": "execute_result"
    }
   ],
   "source": [
    "import numpy as np #导入numpy\n",
    "np.random.seed(523) #随机种子设定值为523\n",
    "np.random.rand(2,3,4) #产生2*3*4个[0,1)之间的随机数，并形成2*3*4之间的三维数组\n",
    "np.random.randn(3,5) #产生3*5个标准正态分布随机数并形成3*5的二维数组\n",
    "np.random.normal(3,5,100) #产生100个均值为3，标准差为5的N（3，5）随机数\n",
    "np.random.uniform(3,7,100) #产生100个上下界分别为3和7的均匀分布随机数\n",
    "np.random.randint(3,30,34) #产生34个[3,30)中的随机整数\n",
    "x = [2,5,-7.6]\n",
    "# 从数组中按照给定概率p随机放回抽取20个样本\n",
    "np.random.choice(x,20,replace=True,p=[0.1,0.3,0.6])\n",
    "# 从数组x中完全随机（不放回）抽取2个样本\n",
    "np.random.choice(x,2,replace=False)\n",
    "# 把0-9的自然数随机排列\n",
    "np.random.permutation(range(10))"
   ]
  },
  {
   "cell_type": "markdown",
   "source": [
    "## 从基本数组中生成数据\n",
    "使用np.array生成数据,跟list和tuple很相近。"
   ],
   "metadata": {
    "collapsed": false
   }
  },
  {
   "cell_type": "code",
   "execution_count": 9,
   "outputs": [
    {
     "data": {
      "text/plain": "(array([[  2.  ,   1.  ,  -7.  ],\n        [  5.5 ,   1.  ,   3.  ],\n        [  0.89,   2.  , -88.  ]]),\n (3, 3),\n 9,\n 2)"
     },
     "execution_count": 9,
     "metadata": {},
     "output_type": "execute_result"
    }
   ],
   "source": [
    "x0 = [[1,3,-5],[3,4],'I am super nice person',(2,6),{2:0,'I':(5,23)}]\n",
    "x = np.array([[1,3,-5],[3,4],'I am super nice person',(2,6),{2:0,'I':(5,23)}])\n",
    "# 输出数组，以及数组的长度形状\n",
    "x0,len(x0),x,x.shape,x.size\n",
    "# 规则的数组\n",
    "y = np.array(((2,1,-7),[5.5,1,3],(0.89,2,-88)))\n",
    "y,y.shape,y.size,y.ndim"
   ],
   "metadata": {
    "collapsed": false,
    "pycharm": {
     "name": "#%%\n"
    }
   }
  },
  {
   "cell_type": "markdown",
   "source": [
    "## 直接产生需要的数组\n",
    "使用np.arange函数，此函数的用法有三种：\n",
    "1. 输入一个参数，输出从0开始步长为1小于该数的所有整数增数列；\n",
    "2. 输入两个参数，输出为第一个数字开始到小于该数的步长为1的升序列；\n",
    "3. 输入三个参数，从第一个参数开始，逐次增加第三个参数的值，直到不超过第二个参数的绝对值。"
   ],
   "metadata": {
    "collapsed": false
   }
  },
  {
   "cell_type": "code",
   "execution_count": 10,
   "outputs": [
    {
     "data": {
      "text/plain": "(array([ 0.,  1.,  2.,  3.,  4.,  5.,  6.,  7.,  8.,  9., 10.]),\n array([2.3, 3.3, 4.3, 5.3, 6.3, 7.3, 8.3, 9.3]),\n array([ 2.3,  3.1,  3.9,  4.7,  5.5,  6.3,  7.1,  7.9,  8.7,  9.5, 10.3]))"
     },
     "execution_count": 10,
     "metadata": {},
     "output_type": "execute_result"
    }
   ],
   "source": [
    "x1 = np.arange(10.5)\n",
    "x2 = np.arange(2.3,10)\n",
    "x3 = np.arange(2.3,10.5,0.8)\n",
    "x1,x2,x3"
   ],
   "metadata": {
    "collapsed": false,
    "pycharm": {
     "name": "#%%\n"
    }
   }
  },
  {
   "cell_type": "markdown",
   "source": [
    "## 产生特殊值的数组"
   ],
   "metadata": {
    "collapsed": false
   }
  },
  {
   "cell_type": "code",
   "execution_count": 16,
   "outputs": [
    {
     "data": {
      "text/plain": "(array([[[0., 0., 0., 0.],\n         [0., 0., 0., 0.],\n         [0., 0., 0., 0.]],\n \n        [[0., 0., 0., 0.],\n         [0., 0., 0., 0.],\n         [0., 0., 0., 0.]]]),\n array([[[1., 1., 1., 1.],\n         [1., 1., 1., 1.],\n         [1., 1., 1., 1.]],\n \n        [[1., 1., 1., 1.],\n         [1., 1., 1., 1.],\n         [1., 1., 1., 1.]]]),\n array([[[888, 888, 888, 888],\n         [888, 888, 888, 888],\n         [888, 888, 888, 888]],\n \n        [[888, 888, 888, 888],\n         [888, 888, 888, 888],\n         [888, 888, 888, 888]]]),\n array([[1., 0.],\n        [0., 1.]]),\n array([[6.23042070e-307, 4.67296746e-307, 1.69121096e-306],\n        [3.33773471e-307, 2.67017691e-306, 2.42092166e-322]]),\n array([[ 0.,  0.,  0.,  0.],\n        [ 1.,  2.,  3.,  4.],\n        [ 4.,  6.,  8., 10.]]))"
     },
     "execution_count": 16,
     "metadata": {},
     "output_type": "execute_result"
    }
   ],
   "source": [
    "# 全为0的数组\n",
    "x1 = np.zeros([2,3,4])\n",
    "# 全为1的数组\n",
    "x2 = np.ones([2,3,4])\n",
    "# 指定数字的数组\n",
    "x3 = np.full([2,3,4],888)\n",
    "# 单位矩阵\n",
    "x4 = np.identity(2)\n",
    "# 任意值的空数组\n",
    "x5 = np.empty((2,3))\n",
    "# 根据函数关系确定数组,x_{ij}的值为i^2+i*j,这里实际上是传入i**2 + i*j的返回值，也可以逻辑逻辑表达式的形式\n",
    "x6 = np.fromfunction(lambda i,j: i**2 + i*j,(3,4))\n",
    "x1,x2,x3,x4,x5,x6"
   ],
   "metadata": {
    "collapsed": false,
    "pycharm": {
     "name": "#%%\n"
    }
   }
  },
  {
   "cell_type": "markdown",
   "source": [
    "# 数据的存取"
   ],
   "metadata": {
    "collapsed": false
   }
  },
  {
   "cell_type": "code",
   "execution_count": 32,
   "outputs": [
    {
     "name": "stdout",
     "output_type": "stream",
     "text": [
      "C:\\Users\\Ling Wanying\\PycharmProjects\\DeepLearning_2022\\OpenDataScience\\Numpy\n",
      "[[ 1.27930963 -1.01390266 -0.71406178]\n",
      " [ 0.21528265  0.86804909  0.57923798]\n",
      " [-0.31959123 -1.36876801  0.66276592]\n",
      " [ 0.08968844  0.46906647 -0.75589987]\n",
      " [-0.34800369  0.09850096  0.43314466]]\n"
     ]
    },
    {
     "data": {
      "text/plain": "array([[ 1.27930963, -1.01390266, -0.71406178],\n       [ 0.21528265,  0.86804909,  0.57923798],\n       [-0.31959123, -1.36876801,  0.66276592],\n       [ 0.08968844,  0.46906647, -0.75589987],\n       [-0.34800369,  0.09850096,  0.43314466]])"
     },
     "execution_count": 32,
     "metadata": {},
     "output_type": "execute_result"
    }
   ],
   "source": [
    "import os\n",
    "m = os.getcwd()\n",
    "print(m)\n",
    "##创建文件夹Data\n",
    "os.makedirs('/Data', exist_ok=True)\n",
    "x = np.random.randn(5,3)\n",
    "print(x)\n",
    "# 存入数据\n",
    "np.savetxt('/Data/commas1.csv',x,delimiter=',')\n",
    "# 导入数据\n",
    "x2 = np.loadtxt('/Data/commas1.csv',delimiter=',')\n",
    "x2"
   ],
   "metadata": {
    "collapsed": false,
    "pycharm": {
     "name": "#%%\n"
    }
   }
  },
  {
   "cell_type": "markdown",
   "source": [
    "# 数组的运算\n",
    "## 改变形状\n",
    "使用reshape函数"
   ],
   "metadata": {
    "collapsed": false
   }
  },
  {
   "cell_type": "code",
   "execution_count": 33,
   "outputs": [
    {
     "data": {
      "text/plain": "array([[ 0,  1,  2,  3,  4,  5,  6,  7],\n       [ 8,  9, 10, 11, 12, 13, 14, 15]])"
     },
     "execution_count": 33,
     "metadata": {},
     "output_type": "execute_result"
    }
   ],
   "source": [
    "x = np.arange(16).reshape(2,8)\n",
    "x"
   ],
   "metadata": {
    "collapsed": false,
    "pycharm": {
     "name": "#%%\n"
    }
   }
  },
  {
   "cell_type": "markdown",
   "source": [
    "## 同维数组之间的运算规则\n",
    "1. 如果两个数组都是整型的，除了除法为浮点型，其他运算结果（加、减和乘积）为整型；\n",
    "2. 浮点型元素之间运算，还为浮点型。\n",
    "## 四舍五入和取整计算\n",
    "round为四舍五入，大于对象的最小整数为ceil,小于对象的最大整数为floor"
   ],
   "metadata": {
    "collapsed": false
   }
  },
  {
   "cell_type": "code",
   "execution_count": 34,
   "outputs": [
    {
     "data": {
      "text/plain": "(6.0, 6.0, 5.0)"
     },
     "execution_count": 34,
     "metadata": {},
     "output_type": "execute_result"
    }
   ],
   "source": [
    "np.round(5.88),np.ceil(5.1),np.floor(5.1)"
   ],
   "metadata": {
    "collapsed": false,
    "pycharm": {
     "name": "#%%\n"
    }
   }
  },
  {
   "cell_type": "markdown",
   "source": [
    "## 一些常用命令整理\n",
    "### 求最大值，最小数，求和，求积"
   ],
   "metadata": {
    "collapsed": false
   }
  },
  {
   "cell_type": "code",
   "execution_count": 44,
   "outputs": [
    {
     "data": {
      "text/plain": "(8.88,\n array([-2.  ,  5.  ,  4.  , 13.  ,  8.  ,  8.88]),\n -554.4,\n array([  -2. ,  -14. ,   14. ,  126. , -630. , -554.4]),\n array([[  9.  ,  -8.  ],\n        [-14.  ,   5.88]]))"
     },
     "execution_count": 44,
     "metadata": {},
     "output_type": "execute_result"
    }
   ],
   "source": [
    "import numpy as np\n",
    "x = np.array([-2,7,-1,9,-5,0.88]).reshape(2,3)\n",
    "# 输出x的最大值，以及逐行排序（从0开始）对应的位置\n",
    "x,np.max(x),np.argmax(x)\n",
    "# 类似的，还有最小值\n",
    "np.min(x),np.argmin(x)\n",
    "# 求各个元素的和，累计和，乘积，累计乘积和差分\n",
    "np.sum(x),np.cumsum(x),np.prod(x),np.cumprod(x),np.diff(x)"
   ],
   "metadata": {
    "collapsed": false,
    "pycharm": {
     "name": "#%%\n"
    }
   }
  },
  {
   "cell_type": "markdown",
   "source": [
    "对矩阵做差分的时候，需要注明对哪一维进行计算。"
   ],
   "metadata": {
    "collapsed": false
   }
  },
  {
   "cell_type": "code",
   "execution_count": 52,
   "outputs": [
    {
     "data": {
      "text/plain": "(array([[0., 1.],\n        [2., 3.]]),\n array([[2., 2.]]),\n array([[1.],\n        [1.]]),\n array([2., 4.]),\n array([1., 5.]))"
     },
     "execution_count": 52,
     "metadata": {},
     "output_type": "execute_result"
    }
   ],
   "source": [
    "x=np.arange(3.9).reshape(2,2)\n",
    "# axis为0表示按列运算，为1表示按行运算\n",
    "x,np.diff(x,axis=0),np.diff(x,axis=1),np.sum(x,axis=0),np.sum(x,axis=1)"
   ],
   "metadata": {
    "collapsed": false,
    "pycharm": {
     "name": "#%%\n"
    }
   }
  },
  {
   "cell_type": "markdown",
   "source": [
    "### 符号函数、指数、对数、绝对值、平方值"
   ],
   "metadata": {
    "collapsed": false
   }
  },
  {
   "cell_type": "code",
   "execution_count": 56,
   "outputs": [
    {
     "data": {
      "text/plain": "(array([[0., 1.],\n        [2., 3.]]),\n array([[0., 1.],\n        [1., 1.]]),\n array([[ 1.        ,  2.71828183],\n        [ 7.3890561 , 20.08553692]]),\n array([[0., 1.],\n        [2., 3.]]),\n array([[0., 1.],\n        [2., 3.]]),\n array([[0., 1.],\n        [4., 9.]]))"
     },
     "execution_count": 56,
     "metadata": {},
     "output_type": "execute_result"
    }
   ],
   "source": [
    "x,np.sign(x),np.exp(x),np.log(np.exp(x)),abs(x),x**2"
   ],
   "metadata": {
    "collapsed": false,
    "pycharm": {
     "name": "#%%\n"
    }
   }
  },
  {
   "cell_type": "markdown",
   "source": [
    "### 矩阵之间的内积和外积运算"
   ],
   "metadata": {
    "collapsed": false
   }
  },
  {
   "cell_type": "code",
   "execution_count": 59,
   "outputs": [
    {
     "data": {
      "text/plain": "array([[ 3.21253368e-02, -2.02979420e+00,  1.72069893e+00,\n         1.34101546e+00,  1.17732257e+00,  1.63185275e-01,\n         1.40990814e+00,  2.73237011e-01,  7.59503027e-01,\n         8.60412760e-01, -1.59938267e+00, -1.91757556e+00,\n         3.33776350e-01, -8.87501312e-01,  2.22848436e-01,\n         5.68550743e-01,  5.05776673e-01,  1.65312947e+00],\n       [ 1.03182715e-02, -6.51945468e-01,  5.52667785e-01,\n         4.30718026e-01,  3.78141840e-01,  5.24131461e-02,\n         4.52845525e-01,  8.77604391e-02,  2.43943231e-01,\n         2.76354223e-01, -5.13702464e-01, -6.15902190e-01,\n         1.07204946e-01, -2.85054739e-01,  7.15762355e-02,\n         1.82611656e-01,  1.62449380e-01,  5.30965287e-01],\n       [-5.36218782e-03,  3.38802293e-01, -2.87209778e-01,\n        -2.23835063e-01, -1.96512329e-01, -2.72380053e-02,\n        -2.35334257e-01, -4.56072470e-02, -1.26772146e-01,\n        -1.43615454e-01,  2.66960323e-01,  3.20071362e-01,\n        -5.57121467e-02,  1.48136929e-01, -3.71966582e-02,\n        -9.48994213e-02, -8.44215123e-02, -2.75931448e-01],\n       [-7.10640560e-03,  4.49008239e-01, -3.80633659e-01,\n        -2.96644354e-01, -2.60434054e-01, -3.60980106e-02,\n        -3.11884017e-01, -6.04424176e-02, -1.68008715e-01,\n        -1.90330831e-01,  3.53797442e-01,  4.24184493e-01,\n        -7.38342490e-02,  1.96323056e-01, -4.92960240e-02,\n        -1.25768399e-01, -1.11882226e-01, -3.65686703e-01],\n       [-1.62453651e-03,  1.02644054e-01, -8.70135074e-02,\n        -6.78134082e-02, -5.95356716e-02, -8.25206715e-03,\n        -7.12972213e-02, -1.38172403e-02, -3.84070805e-02,\n        -4.35099545e-02,  8.08787021e-02,  9.69693026e-02,\n        -1.68786360e-02,  4.48797873e-02, -1.12691557e-02,\n        -2.87508718e-02, -2.55764687e-02, -8.35966075e-02],\n       [ 1.89431088e-02, -1.19689368e+00,  1.01463176e+00,\n         7.90746630e-01,  6.94223058e-01,  9.62242492e-02,\n         8.31370063e-01,  1.61117639e-01,  4.47850510e-01,\n         5.07353203e-01, -9.43096104e-01, -1.13072254e+00,\n         1.96815421e-01, -5.23326308e-01,  1.31405383e-01,\n         3.35253095e-01,  2.98237575e-01,  9.74788577e-01]])"
     },
     "execution_count": 59,
     "metadata": {},
     "output_type": "execute_result"
    }
   ],
   "source": [
    "#内积\n",
    "x = np.random.randn(2,3)\n",
    "y = np.random.randn(3,6)\n",
    "x,y,np.dot(x,y)\n",
    "#外积\n",
    "np.outer(x,y)"
   ],
   "metadata": {
    "collapsed": false,
    "pycharm": {
     "name": "#%%\n"
    }
   }
  },
  {
   "cell_type": "markdown",
   "source": [
    "### 合并和拆分矩阵"
   ],
   "metadata": {
    "collapsed": false
   }
  },
  {
   "cell_type": "code",
   "execution_count": 62,
   "outputs": [
    {
     "data": {
      "text/plain": "(array([[0.60039104, 0.63677104],\n        [0.68080759, 0.44254223]]),\n array([[0.85051222, 0.14525866],\n        [0.21475964, 0.90117376]]),\n array([[0.60039104, 0.63677104],\n        [0.68080759, 0.44254223],\n        [0.85051222, 0.14525866],\n        [0.21475964, 0.90117376]]),\n array([[0.60039104, 0.63677104, 0.85051222, 0.14525866],\n        [0.68080759, 0.44254223, 0.21475964, 0.90117376]]),\n [array([[0.60039104, 0.63677104]]),\n  array([[0.68080759, 0.44254223]]),\n  array([[0.85051222, 0.14525866]]),\n  array([[0.21475964, 0.90117376]])],\n [array([[0.60039104],\n         [0.68080759]]),\n  array([[0.63677104],\n         [0.44254223]]),\n  array([[0.85051222],\n         [0.21475964]]),\n  array([[0.14525866],\n         [0.90117376]])])"
     },
     "execution_count": 62,
     "metadata": {},
     "output_type": "execute_result"
    }
   ],
   "source": [
    "x1 = np.random.rand(2,2)\n",
    "x2 = np.random.rand(2,2)\n",
    "# 纵向叠加\n",
    "z1 = np.concatenate((x1,x2),axis=0)\n",
    "# 横向叠加\n",
    "z2 = np.concatenate((x1,x2),axis=1)\n",
    "# 按纵向拆分成4段\n",
    "y1 = np.split(z1,4,axis=0)\n",
    "# 按横向拆分成4段\n",
    "y2 = np.split(z2,4,axis=1)\n",
    "x1,x2,z1,z2,y1,y2"
   ],
   "metadata": {
    "collapsed": false,
    "pycharm": {
     "name": "#%%\n"
    }
   }
  },
  {
   "cell_type": "code",
   "source": [
    "### 向数组中插入值\n",
    "下面的值也可以替换为数组。"
   ],
   "metadata": {
    "collapsed": false,
    "pycharm": {
     "name": "#%%\n"
    }
   },
   "execution_count": null,
   "outputs": []
  },
  {
   "cell_type": "code",
   "execution_count": 66,
   "outputs": [
    {
     "data": {
      "text/plain": "(array([[11, 32, 26],\n        [47, 54, 89],\n        [92, 64, 95]]),\n array([11,  0, 32, 26, 47, 54, 89, 92, 64, 95]),\n array([[11, 32, 26],\n        [ 0,  0,  0],\n        [47, 54, 89],\n        [92, 64, 95]]),\n array([[11,  0, 32, 26],\n        [47,  0, 54, 89],\n        [92,  0, 64, 95]]))"
     },
     "execution_count": 66,
     "metadata": {},
     "output_type": "execute_result"
    }
   ],
   "source": [
    "x = np.array([[11,32,26],[47,54,89],[92,64,95]])\n",
    "#下标1的位置插入0\n",
    "x1 = np.insert(x,1,0)\n",
    "#行号为1的位置插入一行0\n",
    "x2 = np.insert(x,1,0,axis=0)\n",
    "#列号为1的位置插入一行0\n",
    "x3 = np.insert(x,1,0,axis=1)\n",
    "x,x1,x2,x3"
   ],
   "metadata": {
    "collapsed": false,
    "pycharm": {
     "name": "#%%\n"
    }
   }
  },
  {
   "cell_type": "markdown",
   "source": [
    "### 部分数组的赋值\n",
    "此例子中，x和y指向的是计算机同一个地址，修改y的值，x也会改变。z则只是得到了x的值，但是地址并不一样，修改z的值，x不会改变。"
   ],
   "metadata": {
    "collapsed": false
   }
  },
  {
   "cell_type": "code",
   "execution_count": 69,
   "outputs": [
    {
     "data": {
      "text/plain": "(array([[ 0,  1,  2,  3,  4,  5],\n        [ 6,  7,  8,  9, 10, 11]]),\n array([[ 0,  1,  2,  3,  4,  5],\n        [ 6,  7,  8,  9, 10, 11]]),\n array([[ 0,  1,  2,  3,  4,  5],\n        [ 6,  7,  8,  9, 10, 11]]))"
     },
     "execution_count": 69,
     "metadata": {},
     "output_type": "execute_result"
    }
   ],
   "source": [
    "x = np.arange(12).reshape(2,6)\n",
    "y=x\n",
    "z=x.copy()\n",
    "x,y,z"
   ],
   "metadata": {
    "collapsed": false,
    "pycharm": {
     "name": "#%%\n"
    }
   }
  },
  {
   "cell_type": "markdown",
   "source": [
    "### 对角矩阵和上下三角矩阵"
   ],
   "metadata": {
    "collapsed": false
   }
  },
  {
   "cell_type": "code",
   "execution_count": 72,
   "outputs": [
    {
     "data": {
      "text/plain": "(array([[0.88813866, 0.33646691, 0.32398365],\n        [0.69512365, 0.36455999, 0.92905659],\n        [0.29576336, 0.15191326, 0.29152624]]),\n array([0.88813866, 0.36455999, 0.29152624]),\n array([[0.88813866, 0.33646691, 0.32398365],\n        [0.        , 0.36455999, 0.92905659],\n        [0.        , 0.        , 0.29152624]]),\n array([[0.88813866, 0.        , 0.        ],\n        [0.69512365, 0.36455999, 0.        ],\n        [0.29576336, 0.15191326, 0.29152624]]))"
     },
     "execution_count": 72,
     "metadata": {},
     "output_type": "execute_result"
    }
   ],
   "source": [
    "x = np.random.rand(3,3)\n",
    "z = np.diag(x)\n",
    "z2 = np.triu(x)\n",
    "z3 = np.tril(x)\n",
    "x,z,z2,z3"
   ],
   "metadata": {
    "collapsed": false,
    "pycharm": {
     "name": "#%%\n"
    }
   }
  },
  {
   "cell_type": "code",
   "execution_count": null,
   "outputs": [],
   "source": [],
   "metadata": {
    "collapsed": false,
    "pycharm": {
     "name": "#%%\n"
    }
   }
  }
 ],
 "metadata": {
  "kernelspec": {
   "display_name": "Python 3",
   "language": "python",
   "name": "python3"
  },
  "language_info": {
   "codemirror_mode": {
    "name": "ipython",
    "version": 2
   },
   "file_extension": ".py",
   "mimetype": "text/x-python",
   "name": "python",
   "nbconvert_exporter": "python",
   "pygments_lexer": "ipython2",
   "version": "2.7.6"
  }
 },
 "nbformat": 4,
 "nbformat_minor": 0
}